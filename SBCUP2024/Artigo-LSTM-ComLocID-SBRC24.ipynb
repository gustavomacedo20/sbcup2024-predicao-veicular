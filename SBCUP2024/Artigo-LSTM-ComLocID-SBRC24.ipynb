{
 "cells": [
  {
   "cell_type": "markdown",
   "id": "06fe88fe-9556-44c3-a1c7-1797df7f9643",
   "metadata": {},
   "source": [
    "# PROJETO DE MESTRADO"
   ]
  },
  {
   "cell_type": "markdown",
   "id": "553060b8-9e72-49a3-b97c-fc9eb50583b8",
   "metadata": {},
   "source": [
    "### Índice:\n",
    "- #### 0. Preparando o ambiente\n",
    "- #### 1. Carregando os Dados\n",
    "- #### 2. Análise, tratamento e limpeza dos dados\n",
    "- #### 3. Gerando o Perfil/Descrição dos Dados\n",
    "- #### 4. Juntando as tabelas Alertas e Locais\n",
    "- #### 5. Plotando os pontos no mapa\n",
    "- #### 6. Preparando os dados para Criação e Treinamento do modelo\n",
    "- #### 7. Criação e treinamento do modelo\n",
    "- #### 8. Realizando previsões\n",
    "- #### 9. Visualizando e analisando as previsões\n",
    "- #### 10. Comparando acurácia das previsões\n",
    "- #### 11. Registro de resultados"
   ]
  },
  {
   "cell_type": "markdown",
   "id": "a4ade878-e7d7-4f3d-af39-d65b25bc09fd",
   "metadata": {},
   "source": [
    "## 0. Preparando o ambiente"
   ]
  },
  {
   "cell_type": "code",
   "execution_count": 1,
   "id": "d81938a1-6403-4d51-b8ec-c43bf7ddf663",
   "metadata": {},
   "outputs": [],
   "source": [
    "# Atualizando o pip\n",
    "#!python.exe -m pip install --upgrade pip"
   ]
  },
  {
   "cell_type": "markdown",
   "id": "4aaf7679-614f-4bf3-bc3e-cc40eeefc677",
   "metadata": {},
   "source": [
    "### 0.1. Instalando e atualizando bibliotecas"
   ]
  },
  {
   "cell_type": "code",
   "execution_count": 2,
   "id": "52206a01-e9d4-402f-9b6e-33a5096b2e20",
   "metadata": {},
   "outputs": [],
   "source": [
    "#!pip install pydantic-settings"
   ]
  },
  {
   "cell_type": "code",
   "execution_count": 3,
   "id": "87221549-431d-4e72-b89b-8d019672768b",
   "metadata": {},
   "outputs": [],
   "source": [
    "#!pip install --upgrade pydantic-settings"
   ]
  },
  {
   "cell_type": "code",
   "execution_count": 4,
   "id": "fe3b7bcf-8f56-4df2-a71e-a3b9294d510e",
   "metadata": {},
   "outputs": [],
   "source": [
    "#from pydantic_settings import BaseSettings"
   ]
  },
  {
   "cell_type": "code",
   "execution_count": 5,
   "id": "d0ff35d5-ae7e-4a73-9835-b27e3ee289f7",
   "metadata": {},
   "outputs": [],
   "source": [
    "# via terminal\n",
    "# pip install --upgrade jupyterlab ipywidgets\n",
    "# jupyter labextension install @jupyter-widgets/jupyterlab-manager"
   ]
  },
  {
   "cell_type": "code",
   "execution_count": 6,
   "id": "161c49f0-4e97-4370-9353-9ddbb6fa94c1",
   "metadata": {},
   "outputs": [],
   "source": [
    "#import ipywidgets as widgets\n",
    "#widgets.IntSlider()"
   ]
  },
  {
   "cell_type": "code",
   "execution_count": 7,
   "id": "e9240d68-3f34-4176-bbc8-a075e6f3fa42",
   "metadata": {},
   "outputs": [],
   "source": [
    "#from ipywidgets import interact"
   ]
  },
  {
   "cell_type": "code",
   "execution_count": 8,
   "id": "fb31412d-5fd9-4441-95dc-6750dbcd4428",
   "metadata": {},
   "outputs": [],
   "source": [
    "#!pip install pandas_profiling"
   ]
  },
  {
   "cell_type": "code",
   "execution_count": 9,
   "id": "16a0c8c7-8aec-4a2c-9bb5-39dc898afb8f",
   "metadata": {},
   "outputs": [],
   "source": [
    "# Para ler arquivo xlsx (MS Excel) pelo Pandas DataFrame\n",
    "#!pip install openpyxl"
   ]
  },
  {
   "cell_type": "code",
   "execution_count": 10,
   "id": "ff84ef0a-c133-4803-8706-2285dba10a29",
   "metadata": {},
   "outputs": [],
   "source": [
    "# Para geração de perfil de dados\n",
    "#!pip install dtale"
   ]
  },
  {
   "cell_type": "code",
   "execution_count": 11,
   "id": "cd7acdab-139a-476d-9c78-d1baa3d3d9d9",
   "metadata": {},
   "outputs": [],
   "source": [
    "# para plotar os pontos geolocalizados no mapa\n",
    "#!pip install folium"
   ]
  },
  {
   "cell_type": "code",
   "execution_count": 12,
   "id": "e651f251-95ac-4029-985a-e08e9516029e",
   "metadata": {},
   "outputs": [],
   "source": [
    "# Para instalar imagens como font\n",
    "#!pip install fontawesome"
   ]
  },
  {
   "cell_type": "code",
   "execution_count": 13,
   "id": "94e061f8-136b-49a0-a000-24f951de540c",
   "metadata": {},
   "outputs": [],
   "source": [
    "#!pip install tensorflow"
   ]
  },
  {
   "cell_type": "code",
   "execution_count": 14,
   "id": "12241de6-decc-4fd5-baa3-5d84b8ba8291",
   "metadata": {},
   "outputs": [],
   "source": [
    "# Para conseguir importar funções de outros notebooks\n",
    "#!pip install import-ipynb"
   ]
  },
  {
   "cell_type": "code",
   "execution_count": 15,
   "id": "48de0a5b-6bc3-47e9-9c5b-c36112e14ad0",
   "metadata": {},
   "outputs": [],
   "source": [
    "#pip install pydot"
   ]
  },
  {
   "cell_type": "code",
   "execution_count": null,
   "id": "611fdba0-5da4-457a-a68f-f008e30a8950",
   "metadata": {},
   "outputs": [],
   "source": []
  },
  {
   "cell_type": "markdown",
   "id": "e7d77fb3-0465-422c-b12b-62404c03d84f",
   "metadata": {},
   "source": [
    "### 0.2. Importando bibliotecas"
   ]
  },
  {
   "cell_type": "code",
   "execution_count": 16,
   "id": "aa08fb15-c2f2-409e-882d-71be338aa4e5",
   "metadata": {},
   "outputs": [
    {
     "ename": "ModuleNotFoundError",
     "evalue": "No module named 'pandas'",
     "output_type": "error",
     "traceback": [
      "\u001b[1;31m---------------------------------------------------------------------------\u001b[0m",
      "\u001b[1;31mModuleNotFoundError\u001b[0m                       Traceback (most recent call last)",
      "Cell \u001b[1;32mIn[16], line 1\u001b[0m\n\u001b[1;32m----> 1\u001b[0m \u001b[38;5;28;01mimport\u001b[39;00m \u001b[38;5;21;01mpandas\u001b[39;00m \u001b[38;5;28;01mas\u001b[39;00m \u001b[38;5;21;01mpd\u001b[39;00m  \u001b[38;5;66;03m# para gerar os DataFrames (tabelas)\u001b[39;00m\n\u001b[0;32m      2\u001b[0m \u001b[38;5;28;01mfrom\u001b[39;00m \u001b[38;5;21;01mIPython\u001b[39;00m\u001b[38;5;21;01m.\u001b[39;00m\u001b[38;5;21;01mdisplay\u001b[39;00m \u001b[38;5;28;01mimport\u001b[39;00m display  \u001b[38;5;66;03m# para apresentar os dados no Notebook de forma mais agradável \u001b[39;00m\n\u001b[0;32m      3\u001b[0m \u001b[38;5;28;01mimport\u001b[39;00m \u001b[38;5;21;01mdtale\u001b[39;00m  \u001b[38;5;66;03m# para gerar perfil dos dados (descrever os dados)\u001b[39;00m\n",
      "\u001b[1;31mModuleNotFoundError\u001b[0m: No module named 'pandas'"
     ]
    }
   ],
   "source": [
    "import pandas as pd  # para gerar os DataFrames (tabelas)\n",
    "from IPython.display import display  # para apresentar os dados no Notebook de forma mais agradável \n",
    "import dtale  # para gerar perfil dos dados (descrever os dados)\n",
    "import folium  # para plotar os pontos geolocalizados no mapa\n",
    "import fontawesome  # para utilizar imagens como font\n",
    "import tensorflow as tf\n",
    "from tensorflow.keras.models import Sequential  # tipo de modelo\n",
    "from tensorflow.keras.layers import Dense, Dropout, LSTM, Activation, DepthwiseConv1D, GlobalMaxPooling1D  # camadas utilizadas nos modelos\n",
    "from sklearn.preprocessing import MinMaxScaler  # normalizador\n",
    "import numpy as np  # séries de dados\n",
    "import matplotlib.pyplot as plt  # para visualização dos dados em gráficos\n",
    "from keras.callbacks import EarlyStopping, ReduceLROnPlateau, ModelCheckpoint  # funções para utilizar nos callbacks\n",
    "# durante os treinamentos dos modelos.\n",
    "from sklearn.model_selection import train_test_split  # para dividir os dados em treinamento e teste\n",
    "from scipy.spatial.distance import cdist  # para cálculo da distância euclidiana\n",
    "from keras.metrics import mean_absolute_error  # para cálculo do mean_absolute_error após ajustes das predições\n",
    "from tensorflow.keras.optimizers import AdamW  # otimizador específico. AdamW optimization is a stochastic gradient descent method \n",
    "# that is based on adaptive estimation of first-order and second-order moments with an added method to decay weights\n",
    "from tensorflow.keras.initializers import glorot_uniform  # método de inicialização Xavier ou Glorot. \n",
    "# A inicialização de Xavier é uma escolha comum para a inicialização de pesos, pois ajuda a evitar problemas de treinamento, \n",
    "# como gradientes que explodem ou desaparecem. Ela é especialmente útil em redes neurais profundas e redes recorrentes, \n",
    "# como as LSTMs. \n",
    "# Importando funções de outros notebooks\n"
   ]
  },
  {
   "cell_type": "markdown",
   "id": "9433b3fe-815d-4dc7-b7d5-9ee1d667fac4",
   "metadata": {},
   "source": [
    "## 1. Carregando os Dados"
   ]
  },
  {
   "cell_type": "raw",
   "id": "bb9b27eb-d95f-417e-82f8-10e7056606f9",
   "metadata": {},
   "source": [
    "#### Dicionário de Dados da Tabela Alertas:\n",
    "\n",
    "[AleID] = ID do Alerta <Primary Key da Tabela Alertas>\n",
    "      ,emp.[EmpID] = ID Emplacamento anonimizado (ID da Placa, placa anonimizada)\n",
    "\t  ,[DataHora] = Timestamp da passagem do veículo pela câmera (sensor externo)\n",
    "      ,ale.[LocID] = ID da Localização da câmera (sensor externo) <Foreing Key com a Tabela Locais>\n",
    "      ,[AleAleTipID] = ID Tipo de Alerta [Furto, Roubo, etc]\n",
    "      ,[AleSisOcr] = Sistema que originou o Alerta [BIN ROUBO/FURTO (46493), \n",
    "                                                    CORTEX (29680), \n",
    "                                                    SINESP INTEGRACAO (5073), \n",
    "                                                    SINESP CIDADAO (998), \n",
    "                                                    RENACH (516), \n",
    "                                                    CAD SINESP (195), \n",
    "                                                    POLICIA MILITAR DO ESTADO DO RIO DE JANEIRO (7)]\n",
    "      ,[AleAnoBO] = Ano de criação do BO (Boletim de Ocorrência)\n",
    "      ,[AleDatOcr] = Timestamp de criação do BO (Boletim de Ocorrência)\n",
    "      ,[AleMunBO] = Município de criação do BO (Boletim de Ocorrência)\n",
    "      ,[AleNumBO] = Número de criação do BO (Boletim de Ocorrência)\n",
    "      ,[AleUfBo] = UF de criação do BO (Boletim de Ocorrência)\n",
    "      ,[AleNat] = Natureza do tipo de Alerta [Furtado, Roubado, etc]\n",
    "      ,[AleDatIns] = Timestamp de inserção do alerta na base de dados\n",
    "\n",
    "[AleID],[EmpID],[DataHora],[LocID],[AleAleTipID],[AleSisOcr],[AleAnoBO],[AleDatOcr],[AleMunBO],[AleNumBO],[AleUfBo],[AleNat],[AleDatIns]\n",
    "['AleID','EmpID','DataHora','LocID','AleAleTipID','AleSisOcr','AleAnoBO','AleDatOcr','AleMunBO','AleNumBO','AleUfBo','AleNat','AleDatIns']"
   ]
  },
  {
   "cell_type": "raw",
   "id": "8b476174-93a6-48f7-be72-3bc6c8b272c0",
   "metadata": {},
   "source": [
    "#### Dicionário de Dados da Tabela Locais:\n",
    "\n",
    "[LocID] = ID da Localização da câmera (sensor externo) <Primary Key da Tabela Locais e Foreing Key com a Tabela Alertas>\n",
    "      ,[LocNomLocMJSP] = Localização textual da câmera (sensor externo)\n",
    "      ,[LocGeog] = Localização da câmera (sensor externo) (formato geográfico do sql server)\n",
    "      ,[LocAtv] = Informação de câmera (sensor externo) Ativa [0 ou 1] (dedução)\n",
    "      ,[EmpID] = ID Empresa (ID da empresa da câmera (sensor externo), empresa anonimizada)\n",
    "      ,[LocLat] = Latitude da localização da câmera (sensor externo)\n",
    "      ,[LocLong] = Longitude da localização da câmera (sensor externo)\n",
    "      ,[LocMunGeoId] = ID do Município de localização da câmera (sensor externo)\n",
    "\t  ,mun.[MunGeoNom] = Nome do Município de localização da câmera (sensor externo)\n",
    "\t  ,uf.[UFGeoSgl] = UF do Município de localização da câmera (sensor externo)\n",
    "\n",
    "[LocID],[LocNomLocMJSP],[LocGeog],[LocAtv],[EmpID],[LocLat],[LocLong],[LocMunGeoId],[MunGeoNom],[UFGeoSgl]\n",
    "['LocID','LocNomLocMJSP','LocGeog','LocAtv','EmpID','LocLat','LocLong','LocMunGeoId','MunGeoNom','UFGeoSgl']"
   ]
  },
  {
   "cell_type": "markdown",
   "id": "c378b020-ac6a-4c2f-830c-c88485963909",
   "metadata": {},
   "source": [
    "### 1.1. Tabela Alertas"
   ]
  },
  {
   "cell_type": "code",
   "execution_count": null,
   "id": "843013a5-9e66-4dc8-8ed9-c268ca23e0e6",
   "metadata": {
    "scrolled": true
   },
   "outputs": [],
   "source": [
    "#import pandas as pd\n",
    "#from IPython.display import display\n",
    "\n",
    "# Ler o arquivo XLSX em um DataFrame\n",
    "df_alertas = pd.read_excel('Dados/alertas-com-nome-colunas.xlsx')\n",
    "\n",
    "# Exibir o DataFrame alertas\n",
    "display(df_alertas.shape)\n",
    "display(df_alertas)"
   ]
  },
  {
   "cell_type": "markdown",
   "id": "cb0184bc-e162-45ab-a26a-2f2ec7eb902f",
   "metadata": {},
   "source": [
    "### 1.2. Tabela Locais"
   ]
  },
  {
   "cell_type": "code",
   "execution_count": null,
   "id": "f4c1ab39-8485-4f4e-bda7-ebc392877f30",
   "metadata": {
    "scrolled": true
   },
   "outputs": [],
   "source": [
    "# Ler o arquivo XLSX em um DataFrame\n",
    "df_locais = pd.read_excel('Dados/locais-com-nome-colunas.xlsx')\n",
    "\n",
    "# Exibir o DataFrame locais\n",
    "display(df_locais.shape)\n",
    "display(df_locais)"
   ]
  },
  {
   "cell_type": "markdown",
   "id": "c5e9bedf-dd4a-401c-8b32-a7efd535fcbe",
   "metadata": {},
   "source": [
    "## 2. Análise, tratamento e limpeza dos dados\n",
    "### Processo iterativo que é refinado a cada fase"
   ]
  },
  {
   "cell_type": "markdown",
   "id": "16c37cfe-79da-4a13-9530-8a5f84b39ce5",
   "metadata": {},
   "source": [
    "### 2.1. Tabela Alertas"
   ]
  },
  {
   "cell_type": "markdown",
   "id": "b4110312-96d0-4937-8c90-8a873d6c9a3b",
   "metadata": {},
   "source": [
    "#### Limpeza / Deduplicação"
   ]
  },
  {
   "cell_type": "code",
   "execution_count": null,
   "id": "93cec0f2-2cea-4697-9144-7a05626543d9",
   "metadata": {
    "scrolled": true
   },
   "outputs": [],
   "source": [
    "# Deduplicar dados da tabela Alertas:\n",
    "# a coluna 'AleDatIns' gera a data de inserção do registro no BD, então, ao inserir um registro de forma duplicada,\n",
    "# apesar de ser duplicado esse valor, assim como o valor da Chave Primária 'AleID' permanecem únicos. \n",
    "# Para conseguir Deduplicar essas inserções, vamos remover da tabela essas 2 colunas 'AleDatIns' e 'AleID'.\n",
    "registros_totais = len(df_alertas)\n",
    "df_alertas = df_alertas[['EmpID','DataHora','LocID','AleAleTipID','AleSisOcr',\n",
    "                        'AleAnoBO','AleDatOcr','AleMunBO','AleNumBO','AleUfBo',\n",
    "                        'AleNat']].drop_duplicates()\n",
    "print(\"\\n*Dos \" + str(registros_totais) + \" registros totais iniciais, após a deduplicação, ficaram apenas \" + str(len(df_alertas)) + \" registros únicos.\\n\")\n",
    "#display(df_alertas)"
   ]
  },
  {
   "cell_type": "code",
   "execution_count": null,
   "id": "9ee83f20-da17-4abf-82a8-f9378d0aee94",
   "metadata": {
    "scrolled": true
   },
   "outputs": [],
   "source": [
    "# Dados de UF de BO nulos\n",
    "display(df_alertas[df_alertas['AleUfBo'].isnull()])\n",
    "# Ainda não é necessário deletar."
   ]
  },
  {
   "cell_type": "markdown",
   "id": "538143c1-6464-4eef-b306-df7674269f85",
   "metadata": {},
   "source": [
    "#### Enriquecimento dos Dados / Engenharia de Recursos"
   ]
  },
  {
   "cell_type": "code",
   "execution_count": null,
   "id": "ec748060-6747-44fe-8df3-8cc0e8260f02",
   "metadata": {},
   "outputs": [],
   "source": [
    "# Preencher os dados vazios de AleNat\n",
    "df_alertas.loc[df_alertas['AleAleTipID'] == 10, 'AleNat'] = 'LOCALIZADO'"
   ]
  },
  {
   "cell_type": "code",
   "execution_count": null,
   "id": "bf54d11a-7149-451c-a27d-a65d6aafa67d",
   "metadata": {},
   "outputs": [],
   "source": [
    "# Criar um novo campo com os dados da diferença de tempo entre a criação do BO e o momento do Alerta que o veículo passa pela câmera (sensor externo)\n",
    "df_alertas['DataHora'] = pd.to_datetime(df_alertas['DataHora'])\n",
    "df_alertas['AleDatOcr'] = pd.to_datetime(df_alertas['AleDatOcr'])    \n",
    "df_alertas['TempoDoBO'] = df_alertas['DataHora'] - df_alertas['AleDatOcr']\n",
    "\n",
    "display(df_alertas.sort_values(by=['EmpID', 'DataHora']))"
   ]
  },
  {
   "cell_type": "markdown",
   "id": "ab026e9f-e785-4b7d-a544-17d95b6f56e4",
   "metadata": {},
   "source": [
    "#### Verificação de valores Nulos e Brancos"
   ]
  },
  {
   "cell_type": "code",
   "execution_count": null,
   "id": "1d987747-795c-4307-b01b-b31c049dccbe",
   "metadata": {},
   "outputs": [],
   "source": [
    "# Verificar a quantidade de valores nulos no campo 'DataHora'\n",
    "quantidade_nulos = df_alertas['DataHora'].isnull().sum()\n",
    "print(f'Quantidade de valores nulos no campo DataHora: {quantidade_nulos}')\n",
    "# Verificar a quantidade de valores em branco no campo 'DataHora'\n",
    "quantidade_em_branco = (df_alertas['DataHora'].astype(str).str.isspace()).sum()\n",
    "print(f'Quantidade de valores em branco no campo DataHora: {quantidade_em_branco}')\n",
    "\n",
    "# Verificar a quantidade de valores nulos no campo 'LocID'\n",
    "quantidade_nulos = df_alertas['LocID'].isnull().sum()\n",
    "print(f'Quantidade de valores nulos no campo LocID: {quantidade_nulos}')\n",
    "# Verificar a quantidade de valores em branco no campo 'LocID'\n",
    "quantidade_em_branco = (df_alertas['LocID'].astype(str).str.isspace()).sum()\n",
    "print(f'Quantidade de valores em branco no campo LocID: {quantidade_em_branco}')\n",
    "\n",
    "# Verificar a quantidade de valores nulos no campo 'AleAleTipID'\n",
    "quantidade_nulos = df_alertas['AleAleTipID'].isnull().sum()\n",
    "print(f'Quantidade de valores nulos no campo AleAleTipID: {quantidade_nulos}')\n",
    "# Verificar a quantidade de valores em branco no campo 'AleAleTipID'\n",
    "quantidade_em_branco = (df_alertas['AleAleTipID'].astype(str).str.isspace()).sum()\n",
    "print(f'Quantidade de valores em branco no campo AleAleTipID: {quantidade_em_branco}')\n",
    "\n",
    "# Verificar a quantidade de valores nulos no campo 'AleSisOcr'\n",
    "quantidade_nulos = df_alertas['AleSisOcr'].isnull().sum()\n",
    "print(f'Quantidade de valores nulos no campo AleSisOcr: {quantidade_nulos}')\n",
    "# Verificar a quantidade de valores em branco no campo 'AleSisOcr'\n",
    "quantidade_em_branco = (df_alertas['AleSisOcr'].astype(str).str.isspace()).sum()\n",
    "print(f'Quantidade de valores em branco no campo AleSisOcr: {quantidade_em_branco}')\n",
    "\n",
    "# Verificar a quantidade de valores nulos no campo 'AleDatOcr'\n",
    "quantidade_nulos = df_alertas['AleDatOcr'].isnull().sum()\n",
    "print(f'Quantidade de valores nulos no campo AleDatOcr: {quantidade_nulos}')\n",
    "# Verificar a quantidade de valores em branco no campo 'AleDatOcr'\n",
    "quantidade_em_branco = (df_alertas['AleDatOcr'].astype(str).str.isspace()).sum()\n",
    "print(f'Quantidade de valores em branco no campo AleDatOcr: {quantidade_em_branco}')\n",
    "\n",
    "# Verificar a quantidade de valores nulos no campo 'AleMunBO'\n",
    "quantidade_nulos = df_alertas['AleMunBO'].isnull().sum()\n",
    "print(f'Quantidade de valores nulos no campo AleMunBO: {quantidade_nulos}')\n",
    "# Verificar a quantidade de valores em branco no campo 'AleMunBO'\n",
    "quantidade_em_branco = (df_alertas['AleMunBO'].astype(str).str.isspace()).sum()\n",
    "print(f'Quantidade de valores em branco no campo AleMunBO: {quantidade_em_branco}')\n",
    "\n",
    "# Verificar a quantidade de valores nulos no campo 'AleUfBo'\n",
    "quantidade_nulos = df_alertas['AleUfBo'].isnull().sum()\n",
    "print(f'Quantidade de valores nulos no campo AleUfBo: {quantidade_nulos}')\n",
    "# Verificar a quantidade de valores em branco no campo 'AleUfBo'\n",
    "quantidade_em_branco = (df_alertas['AleUfBo'].astype(str).str.isspace()).sum()\n",
    "print(f'Quantidade de valores em branco no campo AleUfBo: {quantidade_em_branco}')\n",
    "\n",
    "# Verificar a quantidade de valores nulos no campo 'AleNat'\n",
    "quantidade_nulos = df_alertas['AleNat'].isnull().sum()\n",
    "print(f'Quantidade de valores nulos no campo AleNat: {quantidade_nulos}')\n",
    "# Verificar a quantidade de valores em branco no campo 'AleNat'\n",
    "quantidade_em_branco = (df_alertas['AleNat'].astype(str).str.isspace()).sum()\n",
    "print(f'Quantidade de valores em branco no campo AleNat: {quantidade_em_branco}')"
   ]
  },
  {
   "cell_type": "markdown",
   "id": "e8aabaa1-02f9-40a1-84c6-95f77ccfdde4",
   "metadata": {},
   "source": [
    "### 2.2. Tabela Locais"
   ]
  },
  {
   "cell_type": "markdown",
   "id": "fb46dd25-c63a-4b66-8389-8a5937aff664",
   "metadata": {},
   "source": [
    "#### Limpeza / Deduplicação"
   ]
  },
  {
   "cell_type": "code",
   "execution_count": null,
   "id": "000f188b-6870-4544-a878-5c79a1469453",
   "metadata": {},
   "outputs": [],
   "source": [
    "# Remover locais que não possuem localização geográfica.\n",
    "registros_totais = len(df_locais)\n",
    "df_locais = df_locais.drop_duplicates()\n",
    "print(\"\\n*Dos \" + str(registros_totais) + \" registros totais iniciais, após a deduplicação, ficaram apenas \" + str(len(df_locais)) + \" registros únicos.\\n\")\n",
    "\n",
    "df_locais = df_locais[df_locais['LocLat'] != 0]\n",
    "print(\"**Dos registros deduplicados, após a seleção apenas dos Locais com LocLat != 0, ficaram apenas \" + str(len(df_locais)) + \" registros únicos.\")\n",
    "df_locais = df_locais[df_locais['LocLong'] != 0]\n",
    "print(\"**Dos registros com LocLat != 0, após a seleção apenas dos Locais com LocLong != 0, ficaram apenas \" + str(len(df_locais)) + \" registros únicos.\\n\")\n",
    "df_locais = df_locais[df_locais['LocAtv'] != 0]\n",
    "print(\"***Dos registros com LocLong != 0, após a seleção apenas dos Locais com LocAtv != 0, ficaram apenas \" + str(len(df_locais)) + \" registros únicos.\\n\")\n",
    "# LocAtv == 0 está duplicado com LocAtv == 1 para as informações relevantes.\n",
    "\n",
    "#display(df_locais)"
   ]
  },
  {
   "cell_type": "code",
   "execution_count": null,
   "id": "bef18875-f28d-4579-8dba-69dafa1becec",
   "metadata": {},
   "outputs": [],
   "source": [
    "# Retirar localizações fora do Brasil, se houver.\n",
    "\n",
    "# Suponha que você tenha um DataFrame chamado df com colunas 'latitude' e 'longitude'\n",
    "\n",
    "# Limites aproximados do Brasil (latitude, longitude)\n",
    "lat_min, lat_max = -33.75, 5.25\n",
    "lon_min, lon_max = -74.00, -34.75\n",
    "\n",
    "# Filtrar os dados para manter apenas aqueles dentro dos limites do Brasil\n",
    "df_fora_brasil = df_locais[(df_locais['LocLat'] <= lat_min) | (df_locais['LocLat'] >= lat_max) |\n",
    "               (df_locais['LocLong'] <= lon_min) | (df_locais['LocLong'] >= lon_max)]\n",
    "\n",
    "# Se desejar remover os pontos fora do Brasil em vez de criar um novo DataFrame:\n",
    "# df = df[(df['latitude'] >= lat_min) & (df['latitude'] <= lat_max) &\n",
    "#         (df['longitude'] >= lon_min) & (df['longitude'] <= lon_max)]\n",
    "\n",
    "# Visualizar o DataFrame resultante\n",
    "print(df_fora_brasil)\n"
   ]
  },
  {
   "cell_type": "code",
   "execution_count": null,
   "id": "2d03c4f7-0f10-4f43-a2b4-9683b5202b59",
   "metadata": {},
   "outputs": [],
   "source": [
    "# LocID diferentes para o mesmo (LocLat, LocLong), porém não há o que fazer, pois os LocID diferentes são usados na tabela Alertas.\n",
    "display(df_locais[df_locais['LocLat'] == -15.7404])\n",
    "# Ainda não é necessário deletar.\n",
    "# os diferentes LocID para o mesmo LocLat e LocLong é por haver mais de uma câmera (sensor externo) na mesmo posição geográfica, \n",
    "# registrando raias diferentes da mesa estrada."
   ]
  },
  {
   "cell_type": "markdown",
   "id": "ca901bfe-5e28-4748-9c64-03b96389cadd",
   "metadata": {},
   "source": [
    "#### Enriquecimento dos Dados / Engenharia de Recursos"
   ]
  },
  {
   "cell_type": "code",
   "execution_count": null,
   "id": "c96105a4-3e38-418b-95ce-dc52efc49aa2",
   "metadata": {},
   "outputs": [],
   "source": [
    "# Definir o número desejado de casas decimais\n",
    "num_decimals = 8\n",
    "\n",
    "# Formatar os valores resultantes\n",
    "df_locais = np.round(df_locais, num_decimals)\n",
    "\n",
    "display(df_locais)"
   ]
  },
  {
   "cell_type": "code",
   "execution_count": null,
   "id": "c608d40a-34d1-4b35-8f3c-3ed72438acdb",
   "metadata": {},
   "outputs": [],
   "source": [
    "# Aplicar a transformação logarítmica para valorizar as casas decimais menores\n",
    "#df_locais['LocLat'] = df_locais['LocLat']\n",
    "#df_locais[['LocLat','LocLong']] = df_locais[['LocLat','LocLong']]\n",
    "#df_locais"
   ]
  },
  {
   "cell_type": "markdown",
   "id": "dbde8493-4252-4279-a69b-434485b5e9f2",
   "metadata": {},
   "source": [
    "#### Verificação de valores Nulos e Brancos"
   ]
  },
  {
   "cell_type": "code",
   "execution_count": null,
   "id": "8375e48a-dd27-468b-8423-e6a96765db1a",
   "metadata": {},
   "outputs": [],
   "source": [
    "# Verificar a quantidade de valores nulos no campo 'LocID'\n",
    "quantidade_nulos = df_locais['LocID'].isnull().sum()\n",
    "print(f'Quantidade de valores nulos no campo LocID: {quantidade_nulos}')\n",
    "# Verificar a quantidade de valores em branco no campo 'LocID'\n",
    "quantidade_em_branco = (df_locais['LocID'].astype(str).str.isspace()).sum()\n",
    "print(f'Quantidade de valores em branco no campo LocID: {quantidade_em_branco}')\n",
    "\n",
    "# Verificar a quantidade de valores nulos no campo 'LocLat'\n",
    "quantidade_nulos = df_locais['LocLat'].isnull().sum()\n",
    "print(f'Quantidade de valores nulos no campo LocLat: {quantidade_nulos}')\n",
    "# Verificar a quantidade de valores em branco no campo 'LocLat'\n",
    "quantidade_em_branco = (df_locais['LocLat'].astype(str).str.isspace()).sum()\n",
    "print(f'Quantidade de valores em branco no campo LocLat: {quantidade_em_branco}')\n",
    "# Verificar a quantidade de valores nulos no campo 'LocLat'\n",
    "quantidade_zeros = len(df_locais[df_locais['LocLat'] == 0])\n",
    "print(f'Quantidade de valores zero no campo LocLat: {quantidade_zeros}')\n",
    "\n",
    "# Verificar a quantidade de valores nulos no campo 'LocLong'\n",
    "quantidade_nulos = df_locais['LocLong'].isnull().sum()\n",
    "print(f'Quantidade de valores nulos no campo LocLong: {quantidade_nulos}')\n",
    "# Verificar a quantidade de valores em branco no campo 'LocLong'\n",
    "quantidade_em_branco = (df_locais['LocLong'].astype(str).str.isspace()).sum()\n",
    "print(f'Quantidade de valores em branco no campo LocLong: {quantidade_em_branco}')\n",
    "# Verificar a quantidade de valores nulos no campo 'LocLong'\n",
    "quantidade_zeros = len(df_locais[df_locais['LocLong'] == 0])\n",
    "print(f'Quantidade de valores zero no campo LocLong: {quantidade_zeros}')\n"
   ]
  },
  {
   "cell_type": "markdown",
   "id": "897e6653-40a1-4b3e-900e-73cbf623a3ba",
   "metadata": {},
   "source": [
    "## 3. Gerando o Perfil/Descrição dos Dados"
   ]
  },
  {
   "cell_type": "markdown",
   "id": "f5d4197c-cc4e-4073-b7f3-a55b25ee32f9",
   "metadata": {},
   "source": [
    "### 3.1. Tabela Alertas"
   ]
  },
  {
   "cell_type": "code",
   "execution_count": null,
   "id": "10a8b167-356a-4fac-a11d-8e8443980ec9",
   "metadata": {},
   "outputs": [],
   "source": [
    "### ESTE CÓDIGO FUNCIONOU UMA VEZ, GEROU O ARQUIVO 'profile_report.html' DEPOIS NÃO FUNCIONOU MAIS ###\n",
    "\n",
    "#import pandas as pd\n",
    "#from pandas_profiling import ProfileReport\n",
    "\n",
    "# Suponha que você tenha um DataFrame chamado 'df' com seus dados\n",
    "# Substitua 'seuarquivo.csv' pelo caminho do seu arquivo de dados, se aplicável\n",
    "# df = pd.read_csv('seuarquivo.csv')\n",
    "\n",
    "# Criar um perfil dos dados\n",
    "#profile = ProfileReport(df_alertas)\n",
    "\n",
    "# Gere o relatório (substitua 'profile_report.html' pelo nome que desejar)\n",
    "#profile.to_file(\"profile_report.html\")\n",
    "#display(profile)"
   ]
  },
  {
   "cell_type": "code",
   "execution_count": null,
   "id": "b1cf8654-5531-40db-9d22-a41bed6601bf",
   "metadata": {},
   "outputs": [],
   "source": [
    "#import dtale\n",
    "# http://gus-dell-prata:40000/dtale/popup/describe/1\n",
    "# Crie um relatório do DataFrame\n",
    "#dtale.show(df_alertas)"
   ]
  },
  {
   "cell_type": "markdown",
   "id": "c2c798f8-42ba-46f1-9462-fe9a1089457e",
   "metadata": {},
   "source": [
    "#### Valores únicos por Natureza do Alerta 'AleNat' (top 100 mais comuns):\n",
    "ROUBADO (27054), FURTADO (22201), MOTORISTA COM CNH CASSADA OU SUSPENSA (444), CLONADO (68), FURTO 190 (26), LOCALIZADO (16), ROUBO 190 (15), ACAO CRIMINOSA (9), DESAPARECIMENTO (8), SEQUESTRO (3)\n",
    "##### IDs 'AleAleTipID':\n",
    "1 (27054), 2 (22201), 31 (444), 5 (68), 11 (26), 10 (16), 12 (15), 17 (9), 7 (8), 6 (3)"
   ]
  },
  {
   "cell_type": "markdown",
   "id": "dc54c64e-ded0-4cba-b0f7-ceefd4eb04ad",
   "metadata": {},
   "source": [
    "#### Valores únicos por UF do Boletim de Ocorrência - BO do Alerta 'AleUfBo' (top 100 mais comuns):\n",
    "DF (10955), GO (9457), CE (7725), SP (5579), PI (3195), (2961), RJ (1684), PE (1371), BA (1196), MG (1163), PA (589), RS (536), PR (530), SC (497), MA (463), AM (288), PB (279), RN (259), ES (231), MT (193), MS (147), AL (141), TO (132), RO (109), SE (96), RR (32), AC (17), AP (15)"
   ]
  },
  {
   "cell_type": "markdown",
   "id": "67e7ee6e-a3e7-4684-aa9c-aafa5c545ba4",
   "metadata": {},
   "source": [
    "#### Valores únicos por Município do Boletim de Ocorrência - BO do Alerta 'AleMunBO' (top 100 mais comuns):\n",
    "BRASILIA (10955), FORTALEZA (4428), SAO PAULO (3615), TERESINA (2356), ANAPOLIS (2347), AGUA LINDAS DE GOIAS (2018), GOIANIA (1431), RIO DE JANEIRO (975), LUZIANIA (716), SALVADOR (681), HORIZONTE (661), BELO HORIZONTE (598), VALPARAISO DE GOIAS (592), RECIFE (365), CAUCAIA (350), PACAJUS (297), MANAUS (277), NOVO GAMA (262), BELEM (257), APARECIDA DE GOIANIA (238), CALDAS NOVAS (213), SOBRAL (196), CURITIBA (191), ITAJAI (188), SAO LUIS (188), SAO JOAO DE MERITI (187), MARACANAU (177), JOAO PESSOA (169), JUAZEIRO DO NORTE (159), RIO VERDE (156), AQUIRAZ (154), CIDADE OCIDENTAL (152), TRINDADE (151), ALTINHO (150), TIMON (146), UBERLANDIA (143), OSASCO (141), CASCAVEL (133), EUSEBIO (130), SANTO ANDRE (123), CAMPINAS (114), PORTO ALEGRE (114), JABOATAO DOS GUARARAPES (111), SENADOR CANEDO (109), PLANALTINA (108), PARNAIBA (101), DUQUE DE CAXIAS (97), DEMERVAL LOBAO (95), FEIRA DE SANTANA (92), ITAITINGA (92), CARUARU (90), CAMPO GRANDE (88), SANTO ANTONIO DO DESCOBERTO (86), SAO GONCALO (86), GUARULHOS (85), NOVA IGUACU (85), PORTO VELHO (84), CATALAO (81), NATAL (81), CRISTALINA (78), BELFORD ROXO (77), JOSE DE FREITAS (73), ALTOS (70), UBERABA (64), ANANINDEUA (63), BARRETOS (63), PELOTAS (63), CONTAGEM (61), MACEIO (60), CUIABA (58), ACAUA (57), COLINAS DO TOCANTINS (56), SAO CAETANO DO SUL (55), CHOROZINHO (54), SERRA (54), FLORIANO (53), NITEROI (53), VARZEA GRANDE (53), PETROLINA (49), BIRITIBA-MIRIM (48), ABADIANIA (47), AMERICANA (46), BARRAS (46), BARREIRAS (46), CRICIUMA (46), VILA VELHA (46), CAMARAGIBE (45), OCARA (45), SAO BERNARDO DO CAMPO (45), MORADA NOVA (44), SANTA CRUZ DO CAPIBARIBE (44), CANOAS (43), MARINGA (41), PALMAS (41), SAO GONCALO DO AMARANTE (41), CAMACARI (40), JATAI (39), MONSENHOR GIL (39), VITORIA DA CONQUISTA (39), CASTANHAL (38)"
   ]
  },
  {
   "cell_type": "markdown",
   "id": "e6388bf2-0aba-46a8-a20b-9897d8292cbe",
   "metadata": {},
   "source": [
    "#### Valores únicos por Ano do Boletim de Ocorrência - BO do Alerta 'AleAnoBO' (top 100 mais comuns):\n",
    "2022 (32491), 2021 (9265), 2023 (7970), 2018 (60), 2019 (35), 2016 (10), 2017 (10), 2015 (2), 2020 (1)"
   ]
  },
  {
   "cell_type": "markdown",
   "id": "5a4e0317-bab3-4467-a395-0ab73ce73073",
   "metadata": {},
   "source": [
    "#### Valores únicos por ID anonimizado do Emplacamento 'EmpID' (top 100 mais comuns):\n",
    "109169628 (1307), 96912929 (756), 111880621 (547), 79680999 (404), 102202439 (366), 104789344 (244), 21370762 (222), 77842986 (183), 55854541 (178), 97059562 (170), 81579343 (158), 89886180 (147), 101939451 (147), 31423236 (145), 54665407 (141), 103688997 (126), 91700707 (120), 39876594 (117), 12625468 (110), 56570079 (106), 118327836 (106), 78900220 (102), 88041053 (98), 111347434 (97), 38815157 (94), 77633316 (89), 8194478 (85), 101487933 (85), 94497232 (82), 63738745 (81), 98684526 (80), 109822705 (80), 84232919 (76), 110965320 (76), 104447975 (75), 11724165 (74), 102713176 (74), 89064025 (72), 58120764 (69), 98763017 (69), 31619650 (68), 90621419 (67), 46519550 (66), 91678634 (66), 42337663 (65), 68634497 (65), 13525724 (63), 94487825 (63), 18079766 (62), 101662963 (61), 97295728 (60), 102608431 (60), 118019747 (60), 110869548 (59), 13410559 (58), 107504443 (58), 10029092 (57), 108286971 (56), 47820333 (54), 50410937 (54), 99557531 (54), 101563755 (54), 106717232 (54), 91661357 (53), 103333229 (53), 36793067 (52), 84749718 (52), 85388068 (52), 88905774 (52), 67703820 (51), 71419997 (51), 93545506 (50), 96516764 (50), 98921022 (50), 78831006 (49), 88108274 (49), 104988652 (49), 25381228 (48), 47741288 (48), 56902264 (48), 76970593 (48), 97754682 (48), 113514379 (48), 56631962 (47), 79655335 (46), 89819226 (46), 112408775 (46), 67010310 (45), 89275984 (45), 90009104 (45), 6944029 (44), 87602549 (44), 100707899 (44), 46685155 (43), 94192074 (43), 102455522 (43), 109957748 (43), 119269590 (43), 36341830 (42), 40656170 (42)"
   ]
  },
  {
   "cell_type": "markdown",
   "id": "466d0d19-82ed-4440-97b8-4e90863ca082",
   "metadata": {},
   "source": [
    "### 3.2. Tabela Locais"
   ]
  },
  {
   "cell_type": "code",
   "execution_count": null,
   "id": "9e96a873-c858-4fff-8580-56bd6c3d1660",
   "metadata": {
    "scrolled": true
   },
   "outputs": [],
   "source": [
    "#import dtale\n",
    "# http://gus-dell-prata:40000/dtale/popup/describe/2\n",
    "# Crie um relatório do DataFrame\n",
    "#dtale.show(df_locais)"
   ]
  },
  {
   "cell_type": "markdown",
   "id": "5b830fd4-c2fa-43cf-8c35-0c13344d99a0",
   "metadata": {},
   "source": [
    "#### Valores de sensores únicos por UF 'UFGeoSgl' (top 100 mais comuns) (cada sensor pode registrar diversos alertas):\n",
    "SP (12930), RJ (4320), CE (3592), PR (3486), MG (3469), SC (2053), RS (1902), BA (1640), GO (1029), ES (1002), DF (966), MT (700), PB (619), RN (611), PA (544), MS (448), PE (442), PI (411), AM (407), AL (343), MA (323), TO (248), SE (226), RO (149), AP (87), AC (48), RR (40), (18)"
   ]
  },
  {
   "cell_type": "markdown",
   "id": "cbe9b569-bef9-4d4f-8527-9a2a641a197f",
   "metadata": {},
   "source": [
    "#### Valores de sensores únicos por Município 'MunGeoNom' (top 100 mais comuns) (cada sensor pode registrar diversos alertas):\n",
    "SAO PAULO (3132), RIO DE JANEIRO (2673), FORTALEZA (1679), CURITIBA (1211), BRASILIA (966), SAO JOSE DOS CAMPOS (456), PORTO ALEGRE (428), JUNDIAI (400), TAUBATE (399), MANAUS (393), OSASCO (375), SAO BERNARDO DO CAMPO (333), CAMPINAS (327), SOROCABA (310), SALVADOR (285), CAMPO GRANDE (273), PRAIA GRANDE (272), BELO HORIZONTE (268), SANTOS (242), ATIBAIA (239), UBERLANDIA (236), BRAGANCA PAULISTA (235), TERESINA (218), GUARULHOS (204), MARINGA (193), VILA VELHA (171), ITU (169), JARAGUA DO SUL (169), INDAIATUBA (168), TABOAO DA SERRA (164), GOIANIA (160), JOINVILLE (160), HORTOLANDIA (158), CHAPECO (157), LONDRINA (156), SAO LUIS (156), ANGRA DOS REIS (151), CUIABA (149), GUARAREMA (141), SETE LAGOAS (138), MOGI DAS CRUZES (133), MOSSORO (133), RIO CLARO (133), CARIACICA (132), CAUCAIA (128), RECIFE (124), SAO JOSE DOS PINHAIS (124), CASCAVEL (122), PIRACICABA (122), COLOMBO (120), LIMEIRA (115), ANAPOLIS (112), BRUSQUE (112), ARAGUAINA (110), JOAO PESSOA (110), CAMPO LARGO (107), FLORIANOPOLIS (106), JUAZEIRO DO NORTE (105), BARUERI (103), NATAL (103), POCOS DE CALDAS (103), ITAQUAQUECETUBA (101), CASTANHAL (100), SAO GONCALO DO AMARANTE (100), SUMARE (99), FEIRA DE SANTANA (97), ITAJAI (97), GOVERNADOR VALADARES (96), ARACRUZ (94), PRESIDENTE PRUDENTE (93), VITORIA (93), ARARUAMA (90), UBERABA (90), CABO FRIO (89), CARAGUATATUBA (89), RIO VERDE (89), SAO CARLOS (89), MACAPA (87), MACEIO (85), TEOFILO OTONI (84), CARAPICUIBA (83), NITEROI (83), PINHAIS (82), SOBRAL (81), MAIRIPORA (80), SAO SEBASTIAO (79), BALNEARIO CAMBORIU (77), VOLTA REDONDA (77), CAMPOS DOS GOYTACAZES (75), SIMOES FILHO (75), EUSEBIO (73), CAMPINA GRANDE (72), NOVA FRIBURGO (72), LOUVEIRA (71), PARNAMIRIM (71), SANTANA DE PARNAIBA (71), VITORIA DA CONQUISTA (71), BLUMENAU (70), AQUIRAZ (68), AGUA LINDAS DE GOIAS (67)"
   ]
  },
  {
   "cell_type": "markdown",
   "id": "aaba57f2-2ea6-4769-98ab-8e839ea60f92",
   "metadata": {},
   "source": [
    "## 4. Juntando as tabelas Alertas e Locais"
   ]
  },
  {
   "cell_type": "code",
   "execution_count": null,
   "id": "fa91fdd6-bbde-4974-b00f-d8fbbbdbd1a0",
   "metadata": {},
   "outputs": [],
   "source": [
    "df_all = df_alertas.merge(df_locais, on='LocID', how='inner')\n",
    "df_all = df_all.rename(columns={\"EmpID_x\": \"EmpID\", \"EmpID_y\": \"EmpresaID\"})\n",
    "# display(df_all)"
   ]
  },
  {
   "cell_type": "markdown",
   "id": "0ceb1d1c-659d-4d33-839b-f4f09da8f5c2",
   "metadata": {},
   "source": [
    "#### Colocando em ordem cronológica por veículo"
   ]
  },
  {
   "cell_type": "code",
   "execution_count": null,
   "id": "8b1b5d36-6f7a-4459-9e5e-334e012ad2e9",
   "metadata": {
    "scrolled": true
   },
   "outputs": [],
   "source": [
    "df_all['DataHora'] = pd.to_datetime(df_all['DataHora'])\n",
    "df_all = df_all.sort_values(by=['EmpID', 'DataHora'])\n",
    "display(df_all)"
   ]
  },
  {
   "cell_type": "code",
   "execution_count": null,
   "id": "bf8886fa-1e40-4e59-bab8-5a48cf1d1f4a",
   "metadata": {},
   "outputs": [],
   "source": [
    "set(df_all['UFGeoSgl'])"
   ]
  },
  {
   "cell_type": "code",
   "execution_count": null,
   "id": "2d0a7dc1-ade0-4d3e-97a9-160860db156c",
   "metadata": {
    "scrolled": true
   },
   "outputs": [],
   "source": [
    "df_all[df_all['UFGeoSgl'].isnull()]"
   ]
  },
  {
   "cell_type": "markdown",
   "id": "579d28c8-8ee5-4668-b089-846d97e936cd",
   "metadata": {},
   "source": [
    "## 5. Plotando os pontos no mapa"
   ]
  },
  {
   "cell_type": "markdown",
   "id": "342e1fd7-ae69-400b-9b96-69c210903035",
   "metadata": {},
   "source": [
    "### 5.1. Trajetórias"
   ]
  },
  {
   "cell_type": "code",
   "execution_count": null,
   "id": "75a6d3eb-6510-4169-926e-ee4262337d73",
   "metadata": {},
   "outputs": [],
   "source": [
    "# EmpID (exemplo para filtro) = 4830181"
   ]
  },
  {
   "cell_type": "code",
   "execution_count": null,
   "id": "a05deaf5-1f06-4d7f-8e33-0258a4bf0661",
   "metadata": {},
   "outputs": [],
   "source": [
    "#import pandas as pd\n",
    "#import folium\n",
    "#import fontawesome\n",
    "\n",
    "# Identificador do veículo desejado\n",
    "veiculo_emp_id = 4830181\n",
    "\n",
    "# Filtrar os alertas para o veículo especificado\n",
    "alertas_veiculo = df_all[df_all['EmpID'] == veiculo_emp_id].copy()\n",
    "print(\"Quantidade total de registros de câmeras (sensores externos): \" + str(len(alertas_veiculo)) + \" para o veiculo_emp_id = \" + str(veiculo_emp_id))\n",
    "print(\"LocID únicos: \" + str(alertas_veiculo['LocID'].nunique()))\n",
    "print(\"Pontos (LocLat,LocLong) únicos:\\n\" + str(alertas_veiculo[['LocLat','LocLong']].nunique()))\n",
    "\n",
    "# Ordenar os alertas pelo campo 'DataHora' e converter para o formato de data e hora\n",
    "alertas_veiculo['DataHora'] = pd.to_datetime(alertas_veiculo['DataHora'])\n",
    "alertas_veiculo = alertas_veiculo.sort_values(by='DataHora')\n",
    "#display(alertas_veiculo)\n",
    "\n",
    "# Criar um mapa com centro em uma coordenada específica ou UF/Município (por exemplo, Brasília)\n",
    "#m = folium.Map(location=[-15.7801, -47.9292], zoom_start=13)\n",
    "# Criar um mapa com centro na coordenada inicial do trajeto\n",
    "m = folium.Map(location=[alertas_veiculo['LocLat'].iloc[0],alertas_veiculo['LocLong'].iloc[0]], zoom_start=15)\n",
    "# Criar um mapa com centro na coordenada final do trajeto\n",
    "#m = folium.Map(location=[alertas_veiculo['LocLat'].iloc[-1],alertas_veiculo['LocLong'].iloc[-1]], zoom_start=15)\n",
    "\n",
    "# Inicializar as coordenadas iniciais\n",
    "latitude_anterior = None\n",
    "longitude_anterior = None\n",
    "contador = 1  # Inicializar o contador para numerar os marcadores\n",
    "contadores_empilhados = {}  # Inicializar um dicionário para rastrear contadores empilhados\n",
    "\n",
    "# Iterar pelos alertas e plotar o caminho do veículo\n",
    "for index, alerta in alertas_veiculo.iterrows():\n",
    "    # Obter as coordenadas geográficas do local a partir do DataFrame df_locais\n",
    "    loc_id = alerta['LocID']\n",
    "    latitude = alerta['LocLat']\n",
    "    longitude = alerta['LocLong']\n",
    "    \n",
    "    # Verificar se a localização é a mesma que a anterior\n",
    "    if (latitude, longitude) in contadores_empilhados:\n",
    "        contadores_empilhados[(latitude, longitude)].append(contador)\n",
    "    else:\n",
    "        contadores_empilhados[(latitude, longitude)] = [contador]\n",
    "\n",
    "    # Criar um ícone personalizado com imagem de pino de localização e texto do contador\n",
    "    if contador == 1:\n",
    "        color='darkred'  # cor do ponto inicial\n",
    "    elif contador == len(alertas_veiculo):\n",
    "        color='red'  # cor do ponto final\n",
    "    else: color='darkorange'  # cor dos pontos intermediários\n",
    "    top = -18 - 20*len(contadores_empilhados[(latitude, longitude)])\n",
    "    icon = folium.DivIcon(html=f'''\n",
    "        <div style=\"position: relative;\">\n",
    "            <i class=\"fas fa-map-marker-alt\" style=\"position: absolute; top: -19px; left: 5.5px; color: {color}; font-size: 40px; opacity: 0.7;\"></i> <!-- Ícone de pino de localização -->\n",
    "            <span style=\"position: absolute; top: {top}px; left: 0; width: 100%; opacity: 0.7; text-align: center; font-size: 14px; color: white; background-color: {color}; border-radius: 50%;\">{contador}</span>\n",
    "        </div>\n",
    "    ''', icon_size=(40, 40))\n",
    "    \n",
    "    # Adicionar marcadores nos pontos de alerta com o ícone personalizado\n",
    "    data_hora = alerta['DataHora'].strftime('%Y-%m-%d %H:%M:%S')\n",
    "    folium.Marker([latitude, longitude], icon=icon, popup=f'{contador}-Data/Hora:{data_hora}').add_to(m)\n",
    "    \n",
    "    # Verificar se há coordenadas anteriores para traçar uma linha entre os pontos\n",
    "    if latitude_anterior is not None and longitude_anterior is not None:\n",
    "        folium.PolyLine([(latitude_anterior, longitude_anterior), (latitude, longitude)], color='red', weight=3, opacity=0.6).add_to(m)\n",
    "    \n",
    "    # Atualizar as coordenadas anteriores e o contador\n",
    "    latitude_anterior = latitude\n",
    "    longitude_anterior = longitude\n",
    "    contador += 1\n",
    "\n",
    "# Exibir o mapa com o caminho do veículo\n",
    "#m.save('caminho_veiculo.html')  # Salvar o mapa em um arquivo HTML para visualização\n",
    "#m"
   ]
  },
  {
   "cell_type": "markdown",
   "id": "66b3ef18-5ccf-4da3-b120-8ae1fa481af6",
   "metadata": {},
   "source": [
    "### 5.2. Câmeras (Sensores Externos)"
   ]
  },
  {
   "cell_type": "code",
   "execution_count": null,
   "id": "2290ab03-ea08-4b7a-a1cd-ba54dfad647c",
   "metadata": {
    "editable": true,
    "slideshow": {
     "slide_type": ""
    },
    "tags": []
   },
   "outputs": [],
   "source": [
    "#import pandas as pd\n",
    "#import folium\n",
    "\n",
    "# Filtrar dados por Estado\n",
    "df_locais_uf = df_locais[df_locais['UFGeoSgl'] == 'DF']\n",
    "\n",
    "# Filtrar dados por Município\n",
    "#df_locais_mun = df_locais[df_locais['MunGeoNom'] == 'BRASILIA']\n",
    "\n",
    "# Criar um mapa com base em uma coordenada central (por exemplo, Nova York)\n",
    "m = folium.Map(location=[-15.793889, -47.782778], zoom_start=10)\n",
    "\n",
    "# Iterar pelos registros do DataFrame e adicionar marcadores para cada ponto\n",
    "for index, row in df_locais_uf.iterrows():\n",
    "    latitude = row['LocLat']\n",
    "    longitude = row['LocLong']\n",
    "    folium.Marker([latitude, longitude]).add_to(m)\n",
    "\n",
    "# Exibir o mapa\n",
    "#m.save('mapa.html')  # Salvar o mapa em um arquivo HTML\n",
    "#m\n"
   ]
  },
  {
   "cell_type": "markdown",
   "id": "95e16581-fc4b-433d-85b2-d36999021a3d",
   "metadata": {},
   "source": [
    "## 6. Preparando os dados para Criação e Treinamento do modelo"
   ]
  },
  {
   "cell_type": "markdown",
   "id": "15d42f5a-f71e-441c-b606-3fde39da9d8c",
   "metadata": {},
   "source": [
    "### 6.1. Exclusão de linhas que não possibilitam predição"
   ]
  },
  {
   "cell_type": "code",
   "execution_count": null,
   "id": "955aa265-6929-4760-8d42-d92abd32922f",
   "metadata": {
    "scrolled": true
   },
   "outputs": [],
   "source": [
    "# Cerca de 60% dos veículos (EmpID) só possuem uma única passagem por sensores externos (câmeras) o que impossibilita qualquer predição e validação de próximo sensor.\n",
    "# Assim, vamos excluir os registros de veículos com apenas uma passagem por sensor externo (câmera).\n",
    "\n",
    "# tamanho anterior ao tratamento\n",
    "display(\"Quantidade de registros antes: \" + str(df_all.shape))\n",
    "\n",
    "# Use o método groupby para contar o número de ocorrências de cada EmpID\n",
    "count_empid = df_all['EmpID'].value_counts()\n",
    "\n",
    "# Crie um conjunto de `EmpID` com registros unitários\n",
    "empid_uniques = count_empid[count_empid <= 1].index\n",
    "\n",
    "# Use a função `isin` para criar um filtro booleano\n",
    "filtered = df_all['EmpID'].isin(empid_uniques)\n",
    "\n",
    "# Aplique o filtro para manter apenas as linhas desejadas\n",
    "df_filtered_0 = df_all[~filtered]\n",
    "\n",
    "# tamanho após o tratamento\n",
    "display(\"Quantidade de registros depois: \" + str(df_filtered_0.shape))\n",
    "\n",
    "#display(count_empid)\n",
    "#display(empid_uniques)\n",
    "display(df_filtered_0)\n",
    "display(df_filtered_0[df_filtered_0['DataHora'] >= df_filtered_0['AleDatOcr'] ].shape)"
   ]
  },
  {
   "cell_type": "markdown",
   "id": "df2c4161-af67-4bb7-b0af-754149d15836",
   "metadata": {},
   "source": [
    "### 6.2. Filtrando linhas por tipo de alerta"
   ]
  },
  {
   "cell_type": "code",
   "execution_count": null,
   "id": "ac23a2fa-bb45-4076-b481-3fda50bdf440",
   "metadata": {
    "scrolled": true
   },
   "outputs": [],
   "source": [
    "df_filtered_1 = df_filtered_0[df_filtered_0['AleAleTipID'].isin([1, 2, 11, 12])]\n",
    "# display(df_filtred_1)\n",
    "# Apenas alertas de veículos Roubados ou Furtados (ROUBADO=1, FURTADO=2, FURTO 190=11, ROUBO 190=12).\n",
    "\n",
    "# Valores únicos por Natureza do Alerta 'AleNat' (top 100 mais comuns):\n",
    "# ROUBADO (27054), FURTADO (22201), MOTORISTA COM CNH CASSADA OU SUSPENSA (444), CLONADO (68), FURTO 190 (26), LOCALIZADO (16), ROUBO 190 (15), ACAO CRIMINOSA (9), DESAPARECIMENTO (8), SEQUESTRO (3)\n",
    "\n",
    "# IDs 'AleAleTipID':\n",
    "# 1 (27054), 2 (22201), 31 (444), 5 (68), 11 (26), 10 (16), 12 (15), 17 (9), 7 (8), 6 (3)\n",
    "\n",
    "# tamanho anterior ao tratamento\n",
    "display(\"Quantidade de registros antes: \" + str(df_filtered_0.shape))\n",
    "# tamanho após o tratamento\n",
    "display(\"Quantidade de registros depois: \" + str(df_filtered_1.shape))"
   ]
  },
  {
   "cell_type": "markdown",
   "id": "bd3afe20-e863-4c34-977b-a2b9e0ddadb3",
   "metadata": {},
   "source": [
    "### 6.3. Filtrando linhas por estado"
   ]
  },
  {
   "cell_type": "code",
   "execution_count": null,
   "id": "aa22a2c7-34c1-4f7d-84e9-47a741f0c706",
   "metadata": {},
   "outputs": [],
   "source": [
    "set(df_filtered_1['UFGeoSgl'])"
   ]
  },
  {
   "cell_type": "code",
   "execution_count": null,
   "id": "637b983e-d025-4703-9215-07f2a1f54853",
   "metadata": {
    "scrolled": true
   },
   "outputs": [],
   "source": [
    "df_filtered_2 = df_filtered_1[df_filtered_1['UFGeoSgl'] == 'CE']\n",
    "# display(df_filtred_2)\n",
    "\n",
    "# Valores de sensores únicos por UF 'UFGeoSgl' (top 100 mais comuns) (cada sensor pode registrar diversos alertas):\n",
    "# SP (12930), RJ (4320), CE (3592), PR (3486), MG (3469), SC (2053), RS (1902), BA (1640), GO (1029), \n",
    "# ES (1002), DF (966), MT (700), PB (619), RN (611), PA (544), MS (448), PE (442), PI (411), AM (407), \n",
    "# AL (343), MA (323), TO (248), SE (226), RO (149), AP (87), AC (48), RR (40), (18)\n",
    "\n",
    "# tamanho anterior ao tratamento\n",
    "display(\"Quantidade de registros antes: \" + str(df_filtered_1.shape))\n",
    "# tamanho após o tratamento\n",
    "display(\"Quantidade de registros depois: \" + str(df_filtered_2.shape))"
   ]
  },
  {
   "cell_type": "code",
   "execution_count": null,
   "id": "d8bae113-b6d3-458d-9299-84233900079c",
   "metadata": {
    "scrolled": true
   },
   "outputs": [],
   "source": [
    "df_filtered_2"
   ]
  },
  {
   "cell_type": "markdown",
   "id": "0a27a6b5-1e8d-4b39-81d1-ea2915c1411b",
   "metadata": {},
   "source": [
    "### 6.4. Filtrando colunas por Features e Targets"
   ]
  },
  {
   "cell_type": "code",
   "execution_count": null,
   "id": "f29247f0-1e90-477a-9f98-9c76d9247adf",
   "metadata": {
    "scrolled": true
   },
   "outputs": [],
   "source": [
    "df_features_targets = df_filtered_2[['EmpID','DataHora','AleAleTipID','AleSisOcr','AleDatOcr','AleMunBO','AleUfBo','TempoDoBO',\n",
    "                      'LocID','EmpresaID','LocLat','LocLong','LocMunGeoId']]\n",
    "#df_ft_min = df_features_targets[['EmpID','LocLat','LocLong']]  # talvez incluir o 'LocID' e 'DataHora'\n",
    "df_ft_min = df_features_targets[['EmpID','LocLat','LocLong','LocID']]\n",
    "display(df_ft_min)"
   ]
  },
  {
   "cell_type": "markdown",
   "id": "60e393b9-6d0c-4dcb-89ac-0c17d8364e15",
   "metadata": {},
   "source": [
    "### 6.5. Preparando as sequências"
   ]
  },
  {
   "cell_type": "markdown",
   "id": "ebcecb36-fe02-4c1a-b277-d71a6da820dd",
   "metadata": {},
   "source": [
    "#### 6.5.1. Excluindo os registros de veículos que não possuem a sequência mínima a ser definida para o treinamento do modelo"
   ]
  },
  {
   "cell_type": "markdown",
   "id": "63466f00-d036-4285-b5a4-399c55788858",
   "metadata": {},
   "source": [
    "- # n_seq"
   ]
  },
  {
   "cell_type": "code",
   "execution_count": null,
   "id": "ce351512-488b-43fe-84af-6c9ab2f76e0a",
   "metadata": {},
   "outputs": [],
   "source": [
    "# Como foram aplicados filtros por tipo de alerta e por estado, uma nova limpeza de sequências mínimas se faz necessária, mesmo para n_seq=1.\n",
    "\n",
    "# n_seq é o tamanho da sequência previsora para predizer o próximo valor (n_seq mínimo = 1) \n",
    "n_seq = 30  # OBS: é usado em células posteriores # 1, 3, 5, 10, 20, 30, 40\n",
    "\n",
    "# tamanho anterior ao tratamento\n",
    "display(df_ft_min.shape)\n",
    "\n",
    "# Use o método groupby para contar o número de ocorrências de cada EmpID\n",
    "count_empid = df_ft_min['EmpID'].value_counts()\n",
    "\n",
    "# Crie um conjunto de `EmpID` com os registros indesejados\n",
    "empid_n_seq = count_empid[count_empid <= n_seq].index\n",
    "\n",
    "# Use a função `isin` para criar um filtro booleano com os registros indesejados\n",
    "filtered = df_ft_min['EmpID'].isin(empid_n_seq)\n",
    "\n",
    "# Aplique o filtro para manter apenas as linhas desejadas\n",
    "df_ft_min_n_seq = df_ft_min[~filtered].reset_index()\n",
    "# Observar que nesta tabela foi resetado o index por questões de tratativas futuras, \n",
    "# porém a coluna \"index\" mantém o index original, caso seja necessário para alguma análise retroativa.\n",
    "\n",
    "df_ft_min_n_seq = df_ft_min_n_seq.rename(columns={\"index\": \"index_original\"})\n",
    "\n",
    "display(df_ft_min_n_seq)"
   ]
  },
  {
   "cell_type": "markdown",
   "id": "15249336-5141-479d-9ac6-f205321a18ab",
   "metadata": {},
   "source": [
    "### 6.6. Normalizando os dados"
   ]
  },
  {
   "cell_type": "code",
   "execution_count": null,
   "id": "fa6f6d71-d042-4d21-85be-b2ca3bae55f6",
   "metadata": {},
   "outputs": [],
   "source": [
    "#df_ft_min_n_seq['DataHora'] = df_ft_min_n_seq['DataHora'].apply(lambda x: x.timestamp())\n",
    "#df_ft_min_n_seq['TempoDoBO'] = df_ft_min_n_seq['TempoDoBO'].dt.total_seconds()\n",
    "'''\n",
    "df_ft_min_n_seq['DataHora'] = df_ft_min_n_seq['DataHora'].apply(lambda x: x.timestamp())\n",
    "df_ft_min_n_seq['TempoDoBO'] = df_ft_min_n_seq['TempoDoBO'].dt.total_seconds()\n",
    "df_ft_min_n_seq['AleDatOcr'] = df_ft_min_n_seq['AleDatOcr'].apply(lambda x: x.timestamp())\n",
    "\n",
    "from sklearn.preprocessing import LabelEncoder\n",
    "\n",
    "# Criar uma instância do LabelEncoder\n",
    "label_encoder_1 = LabelEncoder()\n",
    "label_encoder_2 = LabelEncoder()\n",
    "label_encoder_3 = LabelEncoder()\n",
    "\n",
    "# Ajustar e transformar os rótulos\n",
    "df_ft_min_n_seq['AleSisOcr'] = label_encoder_1.fit_transform(df_ft_min_n_seq['AleSisOcr'])\n",
    "df_ft_min_n_seq['AleMunBO'] = label_encoder_2.fit_transform(df_ft_min_n_seq['AleMunBO'])\n",
    "df_ft_min_n_seq['AleUfBo'] = label_encoder_3.fit_transform(df_ft_min_n_seq['AleUfBo'])\n",
    "'''"
   ]
  },
  {
   "cell_type": "code",
   "execution_count": null,
   "id": "9ef4cac8-96c5-4123-ab00-f04b23f09661",
   "metadata": {},
   "outputs": [],
   "source": [
    "'''\n",
    "# Normalizar apenas com os dados de treinamento\n",
    "# depois, normalizar os dados de teste, considerando também apenas os dados de treinamento\n",
    "\n",
    "minmax = MinMaxScaler(feature_range=(0,1))\n",
    "minmax_features = MinMaxScaler(feature_range=(0,1))\n",
    "\n",
    "#df_train = df_ft_min_n_seq[['EmpID','LocLat','LocLong']].iloc[:int(0.95 * len(df_ft_min_n_seq))].reset_index(drop=True)\n",
    "df_train = df_ft_min_n_seq[['EmpID','LocLat','LocLong','LocID']].iloc[:int(0.95 * len(df_ft_min_n_seq))].reset_index(drop=True)\n",
    "#df_ft_min_n_seq_norm = pd.DataFrame(minmax.fit_transform(df_train[['LocLat','LocLong']]))\n",
    "minmax.fit_transform(df_train[['LocLat','LocLong']])  # Target. AVALIAR PEGAR TODOS OS VALORES POSSÍVEIS AQUI ###\n",
    "df_ft_min_n_seq_norm = pd.DataFrame(minmax_features.fit_transform(df_train[['LocLat','LocLong','LocID']]))  # para usar mais de 2 features\n",
    "df_ft_min_n_seq_norm = pd.concat([df_train['EmpID'], df_ft_min_n_seq_norm], axis=1)\n",
    "#df_ft_min_n_seq_norm = pd.concat([df_ft_min_n_seq_norm, df_train['LocID']], axis=1)\n",
    "\n",
    "#df_test = pd.DataFrame(df_ft_min_n_seq[['EmpID','LocLat','LocLong']].iloc[int(0.95 * len(df_ft_min_n_seq)):]).reset_index(drop=True)\n",
    "df_test = pd.DataFrame(df_ft_min_n_seq[['EmpID','LocLat','LocLong','LocID']].iloc[int(0.95 * len(df_ft_min_n_seq)):]).reset_index(drop=True)\n",
    "#test = pd.DataFrame(minmax.transform(df_test[['LocLat','LocLong']]))\n",
    "test = pd.DataFrame(minmax_features.transform(df_test[['LocLat','LocLong','LocID']]))\n",
    "test = pd.concat([df_test['EmpID'], test], axis=1)\n",
    "#test = pd.concat([test, df_test['LocID']], axis=1)\n",
    "\n",
    "#df_ft_min_n_seq_norm = pd.concat([pd.DataFrame(df_ft_min_n_seq_norm), test], axis=0).reset_index(drop=True)\n",
    "#df_ft_min_n_seq_norm = pd.concat([df_ft_min_n_seq['EmpID'], df_ft_min_n_seq_norm], axis=1)  # ignore_index=True\n",
    "#df_ft_min_n_seq_norm = pd.concat([df_ft_min_n_seq['EmpID'], df_ft_min_n_seq_norm], axis=1)  # ignore_index=True\n",
    "#df_ft_min_n_seq_norm = df_ft_min_n_seq_norm.rename(columns={0: \"LocLat\", 1: \"LocLong\"})\n",
    "df_ft_min_n_seq_norm = df_ft_min_n_seq_norm.rename(columns={0: \"LocLat\", 1: \"LocLong\", 2: 'LocID'})\n",
    "test = test.rename(columns={0: \"LocLat\", 1: \"LocLong\", 2: 'LocID'})\n",
    "#display(df_ft_min_n_seq_norm)\n",
    "#display(np.array(df_ft_min_n_seq[['LocLat','LocLong']].iloc[int(0.8 * len(df_ft_min_n_seq)):]))\n",
    "#display(minmax.inverse_transform(test))\n",
    "'''"
   ]
  },
  {
   "cell_type": "code",
   "execution_count": null,
   "id": "c6ab31ab-406a-4ac4-9881-da4f7e3bb8ce",
   "metadata": {},
   "outputs": [],
   "source": [
    "# Normalizar apenas com os dados de treinamento\n",
    "# depois, normalizar os dados de teste, considerando também apenas os dados de treinamento\n",
    "\n",
    "minmax = MinMaxScaler(feature_range=(0,1))\n",
    "minmax_features = MinMaxScaler(feature_range=(0,1))\n",
    "\n",
    "#df_train = df_ft_min_n_seq[['EmpID','LocLat','LocLong']].iloc[:int(0.95 * len(df_ft_min_n_seq))].reset_index(drop=True)\n",
    "df_train = df_ft_min_n_seq[['EmpID','LocLat','LocLong','LocID']].iloc[:int(0.95 * len(df_ft_min_n_seq))].reset_index(drop=True)\n",
    "#df_ft_min_n_seq_norm = pd.DataFrame(minmax.fit_transform(df_train[['LocLat','LocLong']]))\n",
    "#minmax.fit_transform(df_train[['LocLat','LocLong']])  # Target. AVALIAR PEGAR TODOS OS VALORES POSSÍVEIS AQUI ###\n",
    "minmax.fit_transform(df_filtered_2[['LocLat','LocLong']])  # Target. fazendo para os dados de todo o estado.\n",
    "minmax_features.fit_transform(df_filtered_2[['LocLat','LocLong','LocID']])  # Festures. fazendo para os dados de todo o estado.\n",
    "df_ft_min_n_seq_norm = pd.DataFrame(minmax_features.transform(df_train[['LocLat','LocLong','LocID']]))  # para usar mais de 2 features\n",
    "df_ft_min_n_seq_norm = pd.concat([df_train['EmpID'], df_ft_min_n_seq_norm], axis=1)\n",
    "#df_ft_min_n_seq_norm = pd.concat([df_ft_min_n_seq_norm, df_train['LocID']], axis=1)\n",
    "\n",
    "#df_test = pd.DataFrame(df_ft_min_n_seq[['EmpID','LocLat','LocLong']].iloc[int(0.95 * len(df_ft_min_n_seq)):]).reset_index(drop=True)\n",
    "df_test = pd.DataFrame(df_ft_min_n_seq[['EmpID','LocLat','LocLong','LocID']].iloc[int(0.95 * len(df_ft_min_n_seq)):]).reset_index(drop=True)\n",
    "#test = pd.DataFrame(minmax.transform(df_test[['LocLat','LocLong']]))\n",
    "test = pd.DataFrame(minmax_features.transform(df_test[['LocLat','LocLong','LocID']]))\n",
    "test = pd.concat([df_test['EmpID'], test], axis=1)\n",
    "#test = pd.concat([test, df_test['LocID']], axis=1)\n",
    "\n",
    "#df_ft_min_n_seq_norm = pd.concat([pd.DataFrame(df_ft_min_n_seq_norm), test], axis=0).reset_index(drop=True)\n",
    "#df_ft_min_n_seq_norm = pd.concat([df_ft_min_n_seq['EmpID'], df_ft_min_n_seq_norm], axis=1)  # ignore_index=True\n",
    "#df_ft_min_n_seq_norm = pd.concat([df_ft_min_n_seq['EmpID'], df_ft_min_n_seq_norm], axis=1)  # ignore_index=True\n",
    "#df_ft_min_n_seq_norm = df_ft_min_n_seq_norm.rename(columns={0: \"LocLat\", 1: \"LocLong\"})\n",
    "df_ft_min_n_seq_norm = df_ft_min_n_seq_norm.rename(columns={0: \"LocLat\", 1: \"LocLong\", 2: 'LocID'})\n",
    "test = test.rename(columns={0: \"LocLat\", 1: \"LocLong\", 2: 'LocID'})\n",
    "#display(df_ft_min_n_seq_norm)\n",
    "#display(np.array(df_ft_min_n_seq[['LocLat','LocLong']].iloc[int(0.8 * len(df_ft_min_n_seq)):]))\n",
    "#display(minmax.inverse_transform(test))\n"
   ]
  },
  {
   "cell_type": "code",
   "execution_count": null,
   "id": "16409f84-62e0-472f-a4e8-7e0034f3376e",
   "metadata": {},
   "outputs": [],
   "source": [
    "'''\n",
    "# Normalizar apenas com os dados de treinamento\n",
    "# depois, normalizar os dados de teste, considerando também apenas os dados de treinamento\n",
    "\n",
    "minmax = MinMaxScaler(feature_range=(0,1))\n",
    "minmax_features = MinMaxScaler(feature_range=(0,1))\n",
    "\n",
    "#df_train = df_ft_min_n_seq[['EmpID','LocLat','LocLong']].iloc[:int(0.95 * len(df_ft_min_n_seq))].reset_index(drop=True)\n",
    "df_ft_min_n_seq_norm = (df_ft_min_n_seq[['EmpID','LocLat','LocLong','LocID']].iloc[:int(0.95 * len(df_ft_min_n_seq))].reset_index(drop=True)) / -50.0\n",
    "#df_ft_min_n_seq_norm = pd.DataFrame(minmax.fit_transform(df_train[['LocLat','LocLong']]))\n",
    "#minmax.fit_transform(df_train[['LocLat','LocLong']])  # Target. AVALIAR PEGAR TODOS OS VALORES POSSÍVEIS AQUI ###\n",
    "#minmax.fit_transform(df_filtered_2[['LocLat','LocLong']])  # Target. fazendo para os dados de todo o estado.\n",
    "#minmax_features.fit_transform(df_filtered_2[['LocLat','LocLong','LocID']])  # Festures. fazendo para os dados de todo o estado.\n",
    "#df_ft_min_n_seq_norm = pd.DataFrame(minmax_features.transform(df_train[['LocLat','LocLong','LocID']]))  # para usar mais de 2 features\n",
    "#df_ft_min_n_seq_norm = pd.concat([df_train['EmpID'], df_ft_min_n_seq_norm], axis=1)\n",
    "#df_ft_min_n_seq_norm = pd.concat([df_ft_min_n_seq_norm, df_train['LocID']], axis=1)\n",
    "\n",
    "#df_test = pd.DataFrame(df_ft_min_n_seq[['EmpID','LocLat','LocLong']].iloc[int(0.95 * len(df_ft_min_n_seq)):]).reset_index(drop=True)\n",
    "test = (pd.DataFrame(df_ft_min_n_seq[['EmpID','LocLat','LocLong','LocID']].iloc[int(0.95 * len(df_ft_min_n_seq)):]).reset_index(drop=True)) / -50.0\n",
    "#test = pd.DataFrame(minmax.transform(df_test[['LocLat','LocLong']]))\n",
    "#test = pd.DataFrame(minmax_features.transform(df_test[['LocLat','LocLong','LocID']]))\n",
    "#test = pd.concat([df_test['EmpID'], test], axis=1)\n",
    "#test = pd.concat([test, df_test['LocID']], axis=1)\n",
    "\n",
    "#df_ft_min_n_seq_norm = pd.concat([pd.DataFrame(df_ft_min_n_seq_norm), test], axis=0).reset_index(drop=True)\n",
    "#df_ft_min_n_seq_norm = pd.concat([df_ft_min_n_seq['EmpID'], df_ft_min_n_seq_norm], axis=1)  # ignore_index=True\n",
    "#df_ft_min_n_seq_norm = pd.concat([df_ft_min_n_seq['EmpID'], df_ft_min_n_seq_norm], axis=1)  # ignore_index=True\n",
    "#df_ft_min_n_seq_norm = df_ft_min_n_seq_norm.rename(columns={0: \"LocLat\", 1: \"LocLong\"})\n",
    "#df_ft_min_n_seq_norm = df_ft_min_n_seq_norm.rename(columns={0: \"LocLat\", 1: \"LocLong\", 2: 'LocID'})\n",
    "#test = test.rename(columns={0: \"LocLat\", 1: \"LocLong\", 2: 'LocID'})\n",
    "#display(df_ft_min_n_seq_norm)\n",
    "#display(np.array(df_ft_min_n_seq[['LocLat','LocLong']].iloc[int(0.8 * len(df_ft_min_n_seq)):]))\n",
    "#display(minmax.inverse_transform(test))\n",
    "'''"
   ]
  },
  {
   "cell_type": "code",
   "execution_count": null,
   "id": "6420cd48-6b33-4ed8-aa29-2fec765a6c48",
   "metadata": {},
   "outputs": [],
   "source": [
    "#display(minmax.transform([[-16.311,-48.933], [-16.312,-48.934]]))\n",
    "df_ft_min_n_seq_norm\n",
    "#test"
   ]
  },
  {
   "cell_type": "markdown",
   "id": "53fdf28d-f149-4dd6-931d-6d8af3dd3113",
   "metadata": {},
   "source": [
    "#### 6.7. Subdividindo as sequencias pelo tamanho definido em 'n_seq'"
   ]
  },
  {
   "cell_type": "code",
   "execution_count": null,
   "id": "f1f020c7-9920-452f-858f-e20d4d40e05f",
   "metadata": {},
   "outputs": [],
   "source": [
    "#treinamento\n",
    "features = []\n",
    "target_1 = []\n",
    "target_2 = []\n",
    "\n",
    "for i in range(n_seq, len(df_ft_min_n_seq_norm)):\n",
    "    # Verifique se os 'EmpID' das últimas n_seq linhas são os mesmos\n",
    "    if all(df_ft_min_n_seq_norm['EmpID'].iloc[i-n_seq:i] == df_ft_min_n_seq_norm['EmpID'].iloc[i]):\n",
    "        # Se os 'EmpID' são iguais, adicione a sequência\n",
    "        seq = df_ft_min_n_seq_norm.iloc[i-n_seq:i, 1:4].values  # Seleciona as colunas LocLat e LocLong e LocID e DataHora,'TempoDoBO','EmpresaID'\n",
    "        features.append(seq)\n",
    "        target_1.append(df_ft_min_n_seq_norm.iloc[i, 1])\n",
    "        target_2.append(df_ft_min_n_seq_norm.iloc[i, 2])\n",
    "\n",
    "features = np.array(features)\n",
    "target_1 = np.array(target_1)\n",
    "target_2 = np.array(target_2)\n",
    "target = np.column_stack((target_1, target_2))"
   ]
  },
  {
   "cell_type": "code",
   "execution_count": null,
   "id": "67e7d7bc-dda9-4fad-af21-8c8a9cafe637",
   "metadata": {},
   "outputs": [],
   "source": [
    "#test\n",
    "test_features = []\n",
    "test_target_1 = []\n",
    "test_target_2 = []\n",
    "\n",
    "for i in range(n_seq, len(test)):\n",
    "    # Verifique se os 'EmpID' das últimas n_seq linhas são os mesmos\n",
    "    if all(test['EmpID'].iloc[i-n_seq:i] == test['EmpID'].iloc[i]):\n",
    "        # Se os 'EmpID' são iguais, adicione a sequência\n",
    "        test_seq = test.iloc[i-n_seq:i, 1:4].values  # Seleciona as colunas LocLat e LocLong e LocID e DataHora ,'TempoDoBO','EmpresaID'\n",
    "        test_features.append(test_seq)\n",
    "        test_target_1.append(test.iloc[i, 1])\n",
    "        test_target_2.append(test.iloc[i, 2])\n",
    "\n",
    "test_features = np.array(test_features)\n",
    "test_target_1 = np.array(test_target_1)\n",
    "test_target_2 = np.array(test_target_2)\n",
    "test_target = np.column_stack((test_target_1, test_target_2))\n",
    "#test_target"
   ]
  },
  {
   "cell_type": "markdown",
   "id": "7d6fa3d8-8366-4c7e-94e8-081362c874eb",
   "metadata": {},
   "source": [
    "### 6.8. Divisão dos dados em Treinamento e Validação"
   ]
  },
  {
   "cell_type": "code",
   "execution_count": null,
   "id": "4e5e3bc2-fb26-4787-a333-bc6d7b49f7cb",
   "metadata": {},
   "outputs": [],
   "source": [
    "seed = 42\n",
    "np.random.seed(seed)\n",
    "\n",
    "#Treinamento\n",
    "indices_embaralhados = np.arange(len(features))\n",
    "np.random.shuffle(indices_embaralhados)\n",
    "\n",
    "X_treinamento = features[indices_embaralhados]\n",
    "y_treinamento = target[indices_embaralhados]\n",
    "\n",
    "# Teste\n",
    "indices_embaralhados_test = np.arange(len(test_features))\n",
    "np.random.shuffle(indices_embaralhados_test)\n",
    "\n",
    "X_teste = test_features[indices_embaralhados_test]\n",
    "y_teste = test_target[indices_embaralhados_test]"
   ]
  },
  {
   "cell_type": "code",
   "execution_count": null,
   "id": "6f394b1a-b18f-458a-8369-7adc2b0cfd04",
   "metadata": {
    "scrolled": true
   },
   "outputs": [],
   "source": [
    "y_treinamento"
   ]
  },
  {
   "cell_type": "code",
   "execution_count": null,
   "id": "07bf927e-538f-4c5d-982f-20f682750402",
   "metadata": {
    "scrolled": true
   },
   "outputs": [],
   "source": [
    "# X representa as características/features e y representa os rótulos/targets\n",
    "# Dividir o DataFrame em 80% para treinamento e 20% para teste\n",
    "# random_state é apenas um valor de semente para que seja possível outra pessoa reproduzir o mesmo resultado aleatório.\n",
    "#X_treinamento, X_teste, y_treinamento, y_teste = train_test_split(features, target, test_size=0.05, random_state=42)\n",
    "# =======================\n",
    "#X_treinamento = features\n",
    "#y_treinamento = target\n",
    "#X_teste = test_features\n",
    "#y_teste = test_target"
   ]
  },
  {
   "cell_type": "markdown",
   "id": "45bea8f8-5360-4fc7-9126-077780bc728e",
   "metadata": {},
   "source": [
    "## 7. Criação e treinamento do modelo "
   ]
  },
  {
   "cell_type": "code",
   "execution_count": null,
   "id": "c56ed250-dd63-46b7-b7ce-781253977c14",
   "metadata": {
    "editable": true,
    "slideshow": {
     "slide_type": ""
    },
    "tags": []
   },
   "outputs": [],
   "source": [
    "from tensorflow.keras import layers, regularizers\n",
    "# OPÇÃO 2\n",
    "# Estrutura padrão Artigo (Multi-Step Ballistic Vehicle Trajectory Forecasting Using Deep Learning Models)\n",
    "\n",
    "regressor = Sequential()\n",
    "regressor.add(LSTM(units = 512, activation = 'linear', kernel_initializer=glorot_uniform(), return_sequences = True, input_shape = (features.shape[1], features.shape[2])))\n",
    "regressor.add(LSTM(units = 512, activation = 'linear', kernel_initializer=glorot_uniform()))\n",
    "#regressor.add(Activation('linear'))\n",
    "regressor.add(Dense(units = 512, activation = 'linear', kernel_initializer=glorot_uniform()))\n",
    "regressor.add(Activation('gelu'))\n",
    "regressor.add(Dropout(0.1))\n",
    "regressor.add(Dense(units = 2, activation = 'linear', kernel_initializer=glorot_uniform()))"
   ]
  },
  {
   "cell_type": "raw",
   "id": "fdbf3d0b-8315-4da6-a1d1-b267f74654d9",
   "metadata": {},
   "source": [
    "Artigo (Multi-Step Ballistic Vehicle Trajectory Forecasting Using Deep Learning Models):\n",
    "\n",
    "AdamW [35] optimizer with the initial learning rate 0.001,\n",
    "batch size 512, β1 = 0.9, β2 = 0.98, and \u000fe = 10−8\n",
    "The weights in all models are initialized using the Xavier\n",
    "Glorot method [36]"
   ]
  },
  {
   "cell_type": "code",
   "execution_count": null,
   "id": "6a1e73f9-22cd-40a7-9e32-f7df79b4bba1",
   "metadata": {},
   "outputs": [],
   "source": [
    "# Otimizador padrão Artigo (Multi-Step Ballistic Vehicle Trajectory Forecasting Using Deep Learning Models)\n",
    "tf.keras.optimizers.AdamW(\n",
    "    learning_rate=0.001,\n",
    "    weight_decay=0.004,\n",
    "    beta_1=0.9,\n",
    "    beta_2=0.98,\n",
    "    epsilon=1e-08,\n",
    "    amsgrad=False,\n",
    "    clipnorm=None,\n",
    "    clipvalue=None,\n",
    "    global_clipnorm=None,\n",
    "    use_ema=False,\n",
    "    ema_momentum=0.99,\n",
    "    ema_overwrite_frequency=None,\n",
    "    jit_compile=True,\n",
    "    name=\"AdamW\"#,\n",
    "    #**kwargs\n",
    ")\n",
    "\n",
    "optimizer = AdamW(learning_rate=0.001, weight_decay=1e-4) #, clipnorm=6.0)  # clipvalue=6.0 # clipnorm=6.0"
   ]
  },
  {
   "cell_type": "code",
   "execution_count": null,
   "id": "10c1c42c-45dc-407e-aaa9-23e23bfbba93",
   "metadata": {},
   "outputs": [],
   "source": [
    "from keras import backend as K\n",
    "\n",
    "def root_mean_squared_error(y_true, y_pred):\n",
    "        return K.sqrt(K.mean(K.square(y_pred - y_true))) "
   ]
  },
  {
   "cell_type": "code",
   "execution_count": null,
   "id": "f404c740-60a7-4d5f-9f44-48c138e59e99",
   "metadata": {},
   "outputs": [],
   "source": [
    "# Compilação\n",
    "#optimizer = 'adam'\n",
    "#loss = custom_loss()\n",
    "regressor.compile(optimizer = optimizer, loss = root_mean_squared_error,  # optimizer = 'adam' / 'rmsprop' , loss = 'mean_squared_error' / root_mean_squared_error\n",
    "                  metrics = [['mean_squared_error','mean_absolute_error','accuracy']])  # mean_absolute_error # , run_eagerly=True"
   ]
  },
  {
   "cell_type": "code",
   "execution_count": null,
   "id": "8cd63a4b-263a-48db-9a11-d9415930b0e8",
   "metadata": {},
   "outputs": [],
   "source": [
    "# Callbacks\n",
    "es = EarlyStopping(monitor = 'loss', min_delta = 1e-4, patience = 8, verbose = 1)  # min_delta = 1e-10 / 1e-3 / 1e-5\n",
    "rlr = ReduceLROnPlateau(monitor = 'loss', factor = 0.2, patience = 4, verbose = 1)\n",
    "#mcp = ModelCheckpoint(filepath = 'pesos.h5', monitor = 'loss',  # filepath = 'pesos.h5'\n",
    "                      #save_best_only = True, verbose = 1)\n",
    "\n",
    "# You are saving your model as an HDF5 file via `model.save()`. This file format is considered legacy. \n",
    "# We recommend using instead the native Keras format, e.g. `model.save('my_model.keras')`."
   ]
  },
  {
   "cell_type": "code",
   "execution_count": null,
   "id": "2c9b76b2-241d-43c4-a479-22e8cc4c0a2d",
   "metadata": {
    "scrolled": true
   },
   "outputs": [],
   "source": [
    "%%time\n",
    "# Treinamento\n",
    "regressor.fit(X_treinamento, y_treinamento, epochs = 300, batch_size = 32,#, validation_split = 0.1,\n",
    "              callbacks = [es, rlr])#, mcp])"
   ]
  },
  {
   "cell_type": "code",
   "execution_count": null,
   "id": "00e49350-8bfd-4c3d-bd07-11fd9039357e",
   "metadata": {},
   "outputs": [],
   "source": [
    "regressor.summary()"
   ]
  },
  {
   "cell_type": "code",
   "execution_count": null,
   "id": "0b1de83e-e1af-4909-a74e-8b017d6adc34",
   "metadata": {},
   "outputs": [],
   "source": [
    "from keras.utils.vis_utils import plot_model\n",
    "plot_model(regressor,to_file='Arquitetura_LSTM-M_512.jpg',show_shapes=False,show_layer_names=False, show_layer_activations=True, expand_nested=True, rankdir='LR')"
   ]
  },
  {
   "cell_type": "code",
   "execution_count": null,
   "id": "3a673834-6d5d-4c3f-a869-9824f9eb8680",
   "metadata": {},
   "outputs": [],
   "source": [
    "#from keras.models import Sequential\n",
    "#from keras.layers import Dense\n",
    "#from keras.utils.vis_utils import plot_model\n",
    "#plot_model(regressor,to_file='model_plot_LSTM_64.png',show_shapes=True,show_layer_names=True)"
   ]
  },
  {
   "cell_type": "markdown",
   "id": "68116de7-11c4-486c-b36d-ca3f95a3e876",
   "metadata": {},
   "source": [
    "## 8. Realizando previsões"
   ]
  },
  {
   "cell_type": "markdown",
   "id": "79495576-2a1e-43c9-84e5-12976d24dc32",
   "metadata": {},
   "source": [
    "### 8.1. Previsões originais"
   ]
  },
  {
   "cell_type": "code",
   "execution_count": null,
   "id": "da83190e-5472-4e89-a33f-f2faaf80219b",
   "metadata": {},
   "outputs": [],
   "source": [
    "# Avaliar o modelo nos dados de teste\n",
    "loss = regressor.evaluate(X_teste, y_teste)\n",
    "\n",
    "# Imprimir a perda\n",
    "print(\"Perda nos dados de teste:\", loss)"
   ]
  },
  {
   "cell_type": "code",
   "execution_count": null,
   "id": "21dbb097-9815-4841-bed8-e6b6d0cba1e4",
   "metadata": {},
   "outputs": [],
   "source": [
    "'''\n",
    "previsoes = regressor.predict(X_teste)\n",
    "previsoes = minmax.inverse_transform(previsoes)\n",
    "display(X_teste.shape, previsoes.shape)\n",
    "print(previsoes)\n",
    "print(type(previsoes))\n",
    "'''\n",
    "#display(type(X_teste))"
   ]
  },
  {
   "cell_type": "code",
   "execution_count": null,
   "id": "75dfc379-8ecd-4d3b-b445-a7a2418f3eb0",
   "metadata": {
    "scrolled": true
   },
   "outputs": [],
   "source": [
    "%%time\n",
    "# Fazer as predições\n",
    "predicoes = regressor.predict(X_teste)  # input_data\n",
    "#previsoes = predicoes * -50.0\n",
    "previsoes = minmax.inverse_transform(predicoes)\n",
    "\n",
    "#previsoes = predicoes * (max_values - min_values) + min_values\n",
    "previsoes = previsoes\n",
    "# Definir o número desejado de casas decimais\n",
    "num_decimals = 8\n",
    "\n",
    "# Formatar os valores resultantes\n",
    "previsoes = np.round(previsoes, num_decimals)\n",
    "\n",
    "#display(df_locais)\n",
    "#display(X_teste.shape, previsoes.shape)\n",
    "display(previsoes)"
   ]
  },
  {
   "cell_type": "markdown",
   "id": "c7e21303-519e-4edd-a602-68a27299f87e",
   "metadata": {},
   "source": [
    "### 8.2. Ajustando Previsões originais para pontos possíveis"
   ]
  },
  {
   "cell_type": "markdown",
   "id": "4bc4c6f8-f683-449e-a1bb-fb91152c1235",
   "metadata": {},
   "source": [
    "#### 8.2.1. Pontos possíveis deduplicados"
   ]
  },
  {
   "cell_type": "code",
   "execution_count": null,
   "id": "92ed8c73-9b92-4f8b-9756-62c46d3b8a71",
   "metadata": {
    "scrolled": true
   },
   "outputs": [],
   "source": [
    "possible_values = np.array(df_ft_min[['LocLat','LocLong']].drop_duplicates())\n",
    "#possible_values = np.array(df_ft_min_n_seq[['LocLat','LocLong']].drop_duplicates())\n",
    "len(possible_values)"
   ]
  },
  {
   "cell_type": "markdown",
   "id": "ca97fd65-1360-4856-b75e-3196b2b7866d",
   "metadata": {},
   "source": [
    "#### 8.2.2. Ajustando primeiro Latitude e Longitude de forma separada e depois conjunta"
   ]
  },
  {
   "cell_type": "code",
   "execution_count": null,
   "id": "46750b11-2a7a-4724-a43b-4a11bdf21d62",
   "metadata": {
    "scrolled": true
   },
   "outputs": [],
   "source": [
    "# Ajustando separadamente as latitudes e longitudes dos valores possíveis\n",
    "closest_latitudes = possible_values[:, 0]\n",
    "closest_longitudes = possible_values[:, 1]\n",
    "\n",
    "# Ajuste as latitudes das previsões para valores possíveis\n",
    "adjusted_latitudes = [min(closest_latitudes, key=lambda x: abs(x - pred[0])) for pred in previsoes]\n",
    "#print(adjusted_latitudes)\n",
    "\n",
    "# Ajuste as longitudes das previsões para valores possíveis\n",
    "adjusted_longitudes = [min(closest_longitudes, key=lambda x: abs(x - pred[1])) for pred in previsoes]\n",
    "#print(adjusted_longitudes)\n",
    "\n",
    "# Combine as latitudes e longitudes ajustadas\n",
    "previsoes_separadas = np.column_stack((adjusted_latitudes, adjusted_longitudes))\n",
    "\n",
    "#print(previsoes_separadas.shape, previsoes_separadas)"
   ]
  },
  {
   "cell_type": "code",
   "execution_count": null,
   "id": "5dfff1b9-82be-45dc-93e8-ae450865bd99",
   "metadata": {
    "scrolled": true
   },
   "outputs": [],
   "source": [
    "# Calcule as distâncias euclidianas entre as previsões e os valores possíveis\n",
    "distances = cdist(previsoes_separadas, possible_values, metric='euclidean')\n",
    "\n",
    "# Encontre o índice do valor possível mais próximo para cada previsão\n",
    "closest_indices = np.argmin(distances, axis=1)\n",
    "\n",
    "# Obtenha as localizações mais próximas\n",
    "previsoes_ajustadas_separadas = possible_values[closest_indices]\n",
    "previsoes_ajustadas = previsoes_ajustadas_separadas  # para compatibilidade com codigo anterior\n",
    "\n",
    "#print(previsoes_ajustadas.shape, previsoes_ajustadas)"
   ]
  },
  {
   "cell_type": "code",
   "execution_count": null,
   "id": "a692649c-1b27-47b2-a580-350e03b66f6b",
   "metadata": {},
   "outputs": [],
   "source": [
    "# Testando algumas previsões para confirmar que são valores possíveis\n",
    "#print(possible_values[possible_values == [-15.9080336, -47.9691306]])"
   ]
  },
  {
   "cell_type": "markdown",
   "id": "0e6f3861-f024-4859-be71-57e221ce1c84",
   "metadata": {},
   "source": [
    "#### 8.2.3. Ajustando Latitude e Longitude somente de forma conjunta"
   ]
  },
  {
   "cell_type": "code",
   "execution_count": null,
   "id": "55cda52d-37cb-4fd5-9bab-c3fc1db36cbb",
   "metadata": {
    "scrolled": true
   },
   "outputs": [],
   "source": [
    "# Calcule as distâncias euclidianas entre as previsões e os valores possíveis\n",
    "distances = cdist(previsoes, possible_values, metric='euclidean')\n",
    "\n",
    "# Encontre o índice do valor possível mais próximo para cada previsão\n",
    "closest_indices = np.argmin(distances, axis=1)\n",
    "\n",
    "# Obtenha as localizações mais próximas\n",
    "previsoes_ajustadas_juntas = possible_values[closest_indices]\n",
    "\n",
    "#print(previsoes_ajustadas.shape, previsoes_ajustadas)"
   ]
  },
  {
   "cell_type": "markdown",
   "id": "536853a5-93e8-49b7-92d9-6a2bc0b278d0",
   "metadata": {},
   "source": [
    "## 9. Visualizando e analisando as previsões"
   ]
  },
  {
   "cell_type": "markdown",
   "id": "c763fe24-2928-4353-9bb7-51c1fb15a0a4",
   "metadata": {},
   "source": [
    "### 9.1. Previsões de LATITUDE sem ajustes"
   ]
  },
  {
   "cell_type": "code",
   "execution_count": null,
   "id": "c8151337-4a6c-4f4a-9b78-53a5b82528aa",
   "metadata": {},
   "outputs": [],
   "source": [
    "plt.plot(pd.DataFrame(minmax.inverse_transform(y_teste))[0].head(4), color = 'red', label = 'Latitude Real')\n",
    "#plt.plot(pd.DataFrame((y_teste)*-50.0)[0].head(100), color = 'red', label = 'Latitude Real')\n",
    "#plt.plot(pd.DataFrame(minmax.inverse_transform(y_teste))[1].head(100), color = 'black', label = 'Longitude Real')\n",
    "\n",
    "plt.plot(pd.DataFrame(previsoes[:, 0]).head(4), color = 'blue', label = 'Latitude Prevista', ls=\"--\")\n",
    "#plt.plot(pd.DataFrame(previsoes[:, 1]).head(100), color = 'orange', label = 'Longitude Prevista')\n",
    "\n",
    "fig = plt.gcf()\n",
    "print(fig)\n",
    "fig.set_size_inches(12, 6)\n",
    "fig = plt.gcf()\n",
    "print(fig)\n",
    "\n",
    "plt.title('Previsão SEM ajustes de Latitude')\n",
    "plt.xlabel('Tempo/Posição')\n",
    "plt.ylabel('Valor')\n",
    "plt.legend()\n",
    "\n",
    "#plt.figure(figsize=(2000, 6000))\n",
    "plt.show()"
   ]
  },
  {
   "cell_type": "markdown",
   "id": "f73146f6-fbe1-487a-bb83-0874e3f4dcda",
   "metadata": {},
   "source": [
    "### 9.2. Previsões de LATITUDE com ajustes"
   ]
  },
  {
   "cell_type": "code",
   "execution_count": null,
   "id": "5e02a40c-b76b-48b2-a5e8-800689d90119",
   "metadata": {
    "scrolled": true
   },
   "outputs": [],
   "source": [
    "pd.DataFrame(possible_values).sort_values(by=0, ascending = False).head(50)"
   ]
  },
  {
   "cell_type": "code",
   "execution_count": null,
   "id": "1b588374-dbd2-4969-9f7d-cccab14ab6f7",
   "metadata": {
    "scrolled": true
   },
   "outputs": [],
   "source": [
    "pd.DataFrame(minmax.inverse_transform(y_teste))[0].head(100)"
   ]
  },
  {
   "cell_type": "code",
   "execution_count": null,
   "id": "bb13b701-4c1c-42be-921a-31fdc81a6b39",
   "metadata": {
    "scrolled": true
   },
   "outputs": [],
   "source": [
    "pd.DataFrame(previsoes[:, 0]).head(100)"
   ]
  },
  {
   "cell_type": "code",
   "execution_count": null,
   "id": "3dc523c4-1c98-4ec8-8c56-7951fdc0b7b9",
   "metadata": {
    "scrolled": true
   },
   "outputs": [],
   "source": [
    "pd.DataFrame(previsoes_ajustadas[:, 0]).head(100)"
   ]
  },
  {
   "cell_type": "code",
   "execution_count": null,
   "id": "7e50843c-2035-472b-89f5-4428e2c15339",
   "metadata": {},
   "outputs": [],
   "source": [
    "plt.plot(pd.DataFrame(minmax.inverse_transform(y_teste))[0].head(4), color = 'red', label = 'Latitude Real')\n",
    "#plt.plot(pd.DataFrame(minmax.inverse_transform(y_teste))[1].head(100), color = 'black', label = 'Longitude Real')\n",
    "\n",
    "plt.plot(pd.DataFrame(previsoes_ajustadas[:, 0]).head(4), color = 'blue', label = 'Latitude Prevista', ls=\"-.\")\n",
    "#plt.plot(pd.DataFrame(previsoes_ajustadas[:, 1]).head(100), color = 'orange', label = 'Longitude Prevista')\n",
    "\n",
    "fig = plt.gcf()\n",
    "print(fig)\n",
    "fig.set_size_inches(12, 6)\n",
    "fig = plt.gcf()\n",
    "print(fig)\n",
    "\n",
    "plt.title('Previsão COM ajustes de Latitude')\n",
    "plt.xlabel('Tempo/Posição')\n",
    "plt.ylabel('Valor')\n",
    "plt.legend()\n",
    "\n",
    "#plt.figure(figsize=(2000, 6000))\n",
    "plt.show()"
   ]
  },
  {
   "cell_type": "markdown",
   "id": "98333351-72bf-4402-8ff2-b9bb27f6f166",
   "metadata": {},
   "source": [
    "### 9.3. Previsões de LONGITUDE sem ajustes"
   ]
  },
  {
   "cell_type": "code",
   "execution_count": null,
   "id": "a0814c0e-b456-418d-a2c9-38dea067b66e",
   "metadata": {},
   "outputs": [],
   "source": [
    "#plt.plot(pd.DataFrame(minmax.inverse_transform(y_teste))[0].head(100), color = 'red', label = 'Latitude Real')\n",
    "plt.plot(pd.DataFrame(minmax.inverse_transform(y_teste))[1].head(100), color = 'green', label = 'Longitude Real')\n",
    "\n",
    "#plt.plot(pd.DataFrame(previsoes[:, 0]).head(100), color = 'blue', label = 'Latitude Prevista')\n",
    "plt.plot(pd.DataFrame(previsoes[:, 1]).head(100), color = 'purple', label = 'Longitude Prevista', ls=\"--\")\n",
    "\n",
    "fig = plt.gcf()\n",
    "print(fig)\n",
    "fig.set_size_inches(12, 6)\n",
    "fig = plt.gcf()\n",
    "print(fig)\n",
    "\n",
    "plt.title('Previsão SEM ajustes de Longitude')\n",
    "plt.xlabel('Tempo/Posição')\n",
    "plt.ylabel('Valor')\n",
    "plt.legend()\n",
    "plt.show()"
   ]
  },
  {
   "cell_type": "markdown",
   "id": "4191d441-c83a-40d3-a22a-b239456eb82a",
   "metadata": {},
   "source": [
    "### 9.4. Previsões de LONGITUDE com ajustes"
   ]
  },
  {
   "cell_type": "code",
   "execution_count": null,
   "id": "3f8e4f8f-7f84-497a-8a94-c5da5031ef6e",
   "metadata": {},
   "outputs": [],
   "source": [
    "#plt.plot(pd.DataFrame(minmax.inverse_transform(y_teste))[0].head(100), color = 'red', label = 'Latitude Real')\n",
    "plt.plot(pd.DataFrame(minmax.inverse_transform(y_teste))[1].head(100), color = 'green', label = 'Longitude Real')\n",
    "\n",
    "#plt.plot(pd.DataFrame(previsoes_ajustadas[:, 0]).head(100), color = 'blue', label = 'Latitude Prevista')\n",
    "plt.plot(pd.DataFrame(previsoes_ajustadas[:, 1]).head(100), color = 'purple', label = 'Longitude Prevista', ls=\"-.\")\n",
    "\n",
    "fig = plt.gcf()\n",
    "print(fig)\n",
    "fig.set_size_inches(12, 6)\n",
    "fig = plt.gcf()\n",
    "print(fig)\n",
    "\n",
    "plt.title('Previsão COM ajustes de Longitude')\n",
    "plt.xlabel('Tempo/Posição')\n",
    "plt.ylabel('Valor')\n",
    "plt.legend()\n",
    "plt.show()"
   ]
  },
  {
   "cell_type": "markdown",
   "id": "c09cf9c7-f37d-43f7-a4a4-d2e8c4f235a3",
   "metadata": {},
   "source": [
    "### 9.5. Cálculo de Erro Médio e Acurácia das Previsões com ajustes"
   ]
  },
  {
   "cell_type": "code",
   "execution_count": null,
   "id": "190f8029-fca9-476e-b833-b197f229984f",
   "metadata": {},
   "outputs": [],
   "source": [
    "# Valores originais (latitudes e longitudes reais)\n",
    "true_values = minmax.inverse_transform(y_teste)\n",
    "\n",
    "# Previsões ajustadas\n",
    "adjusted_predictions = previsoes_ajustadas\n",
    "\n",
    "# Calcule as diferenças entre os valores originais e as previsões ajustadas\n",
    "differences = true_values - adjusted_predictions\n",
    "\n",
    "# Calcule a distância euclidiana para cada par de latitudes e longitudes\n",
    "distances = np.linalg.norm(differences, axis=1)\n",
    "\n",
    "# Calcule o erro médio\n",
    "mean_error = np.mean(distances)\n",
    "\n",
    "# Calcule a acurácia em percentagem\n",
    "#accuracy = (1 - mean_error) * 100  # Converte o erro médio em acurácia\n",
    "\n",
    "print(\"Erro Médio:\", mean_error)\n",
    "#print(\"Acurácia (%):\", accuracy)"
   ]
  },
  {
   "cell_type": "raw",
   "id": "595f1d01-9033-478a-9197-4a467da48358",
   "metadata": {},
   "source": [
    "para n_seq = 3\n",
    "mean_absolute_error sem ajuste: 0.0589\n",
    "mean_absolute_error com ajustes: 0.0578 (0.05776256168500925), Acurácia (%): 94.22374383149908\n",
    "melhora de 0.0011\n",
    "\n",
    "para n_seq = 10 e 30 epocas (ativação sigmoid) (talvez possa ter mais epocas)\n",
    "mean_absolute_error: 0.0543\n",
    "Erro Médio: 0.0532 0.053179193092710894, Acurácia (%): 94.68208069072891\n",
    "melhora de 0.0011\n",
    "\n",
    "para n_seq = 10 e 50 epocas (ativação linear)\n",
    "mean_absolute_error: 0.0538\n",
    "Erro Médio: 0.0531 0.053100244624316006, Acurácia (%): 94.68997553756839\n",
    "melhora de 0.0007\n",
    "\n",
    "para n_seq = 10 e 50 epocas (ativação sigmoid, loss='mean_square_error')\n",
    "mean_absolute_error: 0.0521\n",
    "Erro Médio: 0.0513 0.051323681453650606, Acurácia (%): 94.86763185463494\n",
    "melhora de 0.0008\n",
    "\n",
    "para n_seq = 10 e 50 epocas (ativação sigmoid, loss='mean_absolute_error')\n",
    "mean_absolute_error: 0.0507\n",
    "Erro Médio: 0.0496 0.049603123183333195, Acurácia (%): 95.03968768166669\n",
    "melhora de 0.0011\n",
    "\n",
    "sem callbacks\n",
    "mean_absolute_error: 0.0513\n",
    "Erro Médio: 0.0502 0.0502339366730215, Acurácia (%): 94.97660633269786\n",
    "melhora de 0.0011"
   ]
  },
  {
   "cell_type": "markdown",
   "id": "c6e1ae36-17cf-4bde-8dac-914875078e1c",
   "metadata": {},
   "source": [
    "## 10. Comparando acurácia das previsões"
   ]
  },
  {
   "cell_type": "markdown",
   "id": "36532564-d4df-48bf-9cc5-248de0afd9c3",
   "metadata": {},
   "source": [
    "#### 10.1 Plotando Previsão e Realidade no Mapa"
   ]
  },
  {
   "cell_type": "code",
   "execution_count": null,
   "id": "d94a3ed6-9639-4c60-a12f-84966ade94d5",
   "metadata": {},
   "outputs": [],
   "source": [
    "#previsoes_ajustadas[1]"
   ]
  },
  {
   "cell_type": "code",
   "execution_count": null,
   "id": "37f90bbb-cf04-4c24-97d7-20d0e30ee583",
   "metadata": {},
   "outputs": [],
   "source": [
    "#temp=pd.DataFrame()\n",
    "#temp['LocLat'] = pd.DataFrame(previsoes_ajustadas[1]).iloc[0]\n",
    "#temp['LocLong'] = pd.DataFrame(previsoes_ajustadas[1]).iloc[1]\n",
    "#temp"
   ]
  },
  {
   "cell_type": "code",
   "execution_count": null,
   "id": "89c0166d-ad88-4eab-8d3c-80cd90e876fb",
   "metadata": {},
   "outputs": [],
   "source": [
    "#minmax.inverse_transform(X_teste[1])"
   ]
  },
  {
   "cell_type": "code",
   "execution_count": null,
   "id": "58ac015b-fccf-4076-876c-68548d5a429b",
   "metadata": {},
   "outputs": [],
   "source": [
    "#alertas_veiculo_pred = pd.DataFrame()\n",
    "#alertas_veiculo_pred[['LocLat','LocLong']] = pd.DataFrame(minmax.inverse_transform(X_teste[1]))\n",
    "#alertas_veiculo[['LocLat','LocLong']] = pd.concat([alertas_veiculo[['LocLat','LocLong']],temp])\n",
    "#alertas_veiculo_pred"
   ]
  },
  {
   "cell_type": "code",
   "execution_count": null,
   "id": "857ce101-b9ca-42ac-93b2-c4217f2aa606",
   "metadata": {},
   "outputs": [],
   "source": [
    "#temp=pd.DataFrame()\n",
    "#temp['LocLat'] = pd.DataFrame(minmax.inverse_transform(y_teste)[1]).iloc[0]\n",
    "#temp['LocLong'] = pd.DataFrame(minmax.inverse_transform(y_teste)[1]).iloc[1]\n",
    "#temp"
   ]
  },
  {
   "cell_type": "code",
   "execution_count": null,
   "id": "b42769fa-9421-4bea-8002-438125cf4b5c",
   "metadata": {},
   "outputs": [],
   "source": [
    "#minmax.inverse_transform(X_teste[1])"
   ]
  },
  {
   "cell_type": "code",
   "execution_count": null,
   "id": "1a125029-b442-4e81-a0a8-75410ccbcead",
   "metadata": {},
   "outputs": [],
   "source": [
    "#pd.concat([alertas_veiculo[['LocLat','LocLong']],temp]).reset_index(drop=True)"
   ]
  },
  {
   "cell_type": "code",
   "execution_count": null,
   "id": "c5cfa17e-5a3b-4a3c-8b9e-f7bc682f56a6",
   "metadata": {},
   "outputs": [],
   "source": [
    "#alertas_veiculo[['LocLat','LocLong']] = minmax.inverse_transform(X_teste[1])\n",
    "#alertas_veiculo = pd.concat([alertas_veiculo[['LocLat','LocLong']],temp]).reset_index(drop=True)\n",
    "#alertas_veiculo"
   ]
  },
  {
   "cell_type": "code",
   "execution_count": null,
   "id": "1c95a7ae-ce85-4d02-8547-cfce27ee47f4",
   "metadata": {},
   "outputs": [],
   "source": [
    "#import pandas as pd\n",
    "#import folium\n",
    "#import fontawesome\n",
    "\n",
    "# Identificador do veículo desejado\n",
    "#veiculo_emp_id = 4830181\n",
    "\n",
    "# Filtrar os alertas para o veículo especificado\n",
    "#alertas_veiculo = df_all[df_all['EmpID'] == veiculo_emp_id].copy()\n",
    "#alertas_veiculo = df_all[df_all['EmpID'] == veiculo_emp_id].copy()\n",
    "#print(\"Quantidade total de registros de câmeras (sensores externos): \" + str(len(alertas_veiculo)) + \" para o veiculo_emp_id = \" + str(veiculo_emp_id))\n",
    "#print(\"LocID únicos: \" + str(alertas_veiculo['LocID'].nunique()))\n",
    "#print(\"Pontos (LocLat,LocLong) únicos:\\n\" + str(alertas_veiculo[['LocLat','LocLong']].nunique()))\n",
    "\n",
    "# Ordenar os alertas pelo campo 'DataHora' e converter para o formato de data e hora\n",
    "#alertas_veiculo['DataHora'] = pd.to_datetime(alertas_veiculo['DataHora'])\n",
    "#alertas_veiculo = alertas_veiculo.sort_values(by='DataHora')\n",
    "#display(alertas_veiculo)\n",
    "\n",
    "indice = 0  # CE 3 PERTO / GO 8 ACERTOU 18 PERTO\n",
    "alertas_veiculo_pred = pd.DataFrame()\n",
    "#alertas_veiculo_pred[['LocLat','LocLong']] = pd.DataFrame(minmax_features.inverse_transform(X_teste[indice]))\n",
    "alertas_veiculo_pred[['LocLat','LocLong','LocID']] = pd.DataFrame(minmax_features.inverse_transform(X_teste[indice]))\n",
    "\n",
    "# Adicionar posição futura real\n",
    "temp=pd.DataFrame()\n",
    "temp['LocLat'] = pd.DataFrame(minmax.inverse_transform(y_teste)[indice]).iloc[0]\n",
    "temp['LocLong'] = pd.DataFrame(minmax.inverse_transform(y_teste)[indice]).iloc[1]\n",
    "alertas_veiculo_pred = pd.concat([alertas_veiculo_pred[['LocLat','LocLong']],temp]).reset_index(drop=True)\n",
    "#display(alertas_veiculo_pred[['LocLat','LocLong']])\n",
    "# Adicionar posição futura prevista\n",
    "temp['LocLat'] = pd.DataFrame(previsoes_ajustadas[indice]).iloc[0]\n",
    "temp['LocLong'] = pd.DataFrame(previsoes_ajustadas[indice]).iloc[1]\n",
    "alertas_veiculo_pred = pd.concat([alertas_veiculo_pred[['LocLat','LocLong']],temp]).reset_index(drop=True)\n",
    "#display(alertas_veiculo_pred[['LocLat','LocLong']])\n",
    "\n",
    "\n",
    "# Criar um mapa com centro na coordenada inicial do trajeto\n",
    "m = folium.Map(location=[alertas_veiculo_pred['LocLat'].iloc[0],alertas_veiculo_pred['LocLong'].iloc[0]], zoom_start=15)\n",
    "\n",
    "# Inicializar as coordenadas iniciais\n",
    "latitude_anterior = None\n",
    "longitude_anterior = None\n",
    "contador = 1  # Inicializar o contador para numerar os marcadores\n",
    "contador_x = 1\n",
    "contadores_empilhados = {}  # Inicializar um dicionário para rastrear contadores empilhados\n",
    "\n",
    "# Iterar pelos alertas e plotar o caminho do veículo\n",
    "for index, alerta in alertas_veiculo_pred.iterrows():\n",
    "    # Obter as coordenadas geográficas do local a partir do DataFrame\n",
    "    #loc_id = alerta['LocID']\n",
    "    latitude = alerta['LocLat']\n",
    "    longitude = alerta['LocLong']\n",
    "    \n",
    "    # Verificar se a localização é a mesma que a anterior\n",
    "    if (latitude, longitude) in contadores_empilhados:\n",
    "        contadores_empilhados[(latitude, longitude)].append(contador)\n",
    "    else:\n",
    "        contadores_empilhados[(latitude, longitude)] = [contador]\n",
    "\n",
    "    # Criar um ícone personalizado com imagem de pino de localização e texto do contador\n",
    "    if contador == 1:\n",
    "        contador_x = contador\n",
    "        color_x = 'red'\n",
    "        color='darkred'  # cor do ponto inicial\n",
    "    elif contador == (len(alertas_veiculo_pred)-1):\n",
    "        contador_x = \"Real\"\n",
    "        color_x = 'red'\n",
    "        color='red'  # cor do penúltimo ponto (ponto FUTURO REAL)\n",
    "    elif contador == len(alertas_veiculo_pred):\n",
    "        contador_x = \"Previsto\"\n",
    "        color_x = 'purple'\n",
    "        color='purple'  # cor do ponto final (ponto FUTURO PREVISTO)\n",
    "    else: \n",
    "        contador_x = contador\n",
    "        color_x = 'red'\n",
    "        color='darkorange'  # cor dos pontos intermediários\n",
    "    top = -18 - 20*len(contadores_empilhados[(latitude, longitude)])\n",
    "    icon = folium.DivIcon(html=f'''\n",
    "        <div style=\"position: relative;\">\n",
    "            <i class=\"fas fa-map-marker-alt\" style=\"position: absolute; top: -19px; left: 5.5px; color: {color}; font-size: 40px; opacity: 0.7;\"></i> <!-- Ícone de pino de localização -->\n",
    "            <span style=\"position: absolute; top: {top}px; left: 0; width: 100%; opacity: 0.7; text-align: center; font-size: 14px; color: white; background-color: {color}; border-radius: 50%;\">{contador_x}</span>\n",
    "        </div>\n",
    "    ''', icon_size=(40, 40))\n",
    "    \n",
    "    # Adicionar marcadores nos pontos de alerta com o ícone personalizado\n",
    "    #data_hora = alerta['DataHora'].strftime('%Y-%m-%d %H:%M:%S')\n",
    "    #folium.Marker([latitude, longitude], icon=icon, popup=f'{contador}-Data/Hora:{data_hora}').add_to(m)\n",
    "    folium.Marker([latitude, longitude], icon=icon, popup=f'{contador}').add_to(m)\n",
    "    \n",
    "    # Verificar se há coordenadas anteriores para traçar uma linha entre os pontos\n",
    "    if latitude_anterior is not None and longitude_anterior is not None:\n",
    "        folium.PolyLine([(latitude_anterior, longitude_anterior), (latitude, longitude)], color=color_x, weight=3, opacity=0.6).add_to(m)\n",
    "    \n",
    "    # Atualizar as coordenadas anteriores e o contador\n",
    "    latitude_anterior = latitude\n",
    "    longitude_anterior = longitude\n",
    "    contador += 1\n",
    "\n",
    "# Exibir o mapa com o caminho do veículo\n",
    "#m.save('caminho_veiculo.html')  # Salvar o mapa em um arquivo HTML para visualização\n",
    "m"
   ]
  },
  {
   "cell_type": "markdown",
   "id": "ec89dc39-2d97-4db0-a4c8-c6874226324d",
   "metadata": {},
   "source": [
    "#### 10.2 Analisando a Precisão da Acurácia"
   ]
  },
  {
   "cell_type": "code",
   "execution_count": null,
   "id": "29cd7dea-cb91-4e4b-8fed-a90d72ccdcce",
   "metadata": {},
   "outputs": [],
   "source": [
    "print(len(true_values[true_values[:,0:2] == previsoes_ajustadas_separadas[:,0:2]]))\n",
    "true_values[true_values[:,0:2] == previsoes_ajustadas_separadas[:,0:2]]"
   ]
  },
  {
   "cell_type": "code",
   "execution_count": null,
   "id": "aa4ea14b-4407-450c-af53-d482a05afee6",
   "metadata": {},
   "outputs": [],
   "source": [
    "num_elementos_iguais = np.sum(\n",
    "    [f\"{valor:.4f}\" == f\"{previsao:.4f}\" for valor, previsao in zip(true_values[:, 0], previsoes_ajustadas_juntas[:, 0])]\n",
    ")\n",
    "\n",
    "print(num_elementos_iguais)"
   ]
  },
  {
   "cell_type": "code",
   "execution_count": null,
   "id": "5fc8bb25-70eb-417f-8fd9-26d537ee5983",
   "metadata": {},
   "outputs": [],
   "source": [
    "tf.keras.metrics.Accuracy(name=\"accuracy\", dtype=None)\n",
    "\n",
    "print(\"---------------------\")\n",
    "print(\"- #### Número de previsores (n_seq) =\", n_seq)\n",
    "print(\"- #### Número de previsões (Lat e Long) =\", len(previsoes[:,1]))  # , true_values.shape)\n",
    "\n",
    "# Previsões originais\n",
    "m1 = tf.keras.metrics.Accuracy()\n",
    "print(\"\\n #### Previsões originais:\")\n",
    "m1.update_state(previsoes, true_values)\n",
    "print(\"- ##### Número de acertos de próximo sensor externo:\", len(true_values[true_values[:,1] == previsoes[:,1]]))\n",
    "print(\"- ##### Acurácia:\", m1.result().numpy())\n",
    "\n",
    "# Previsões ajustadas separadamente e depois conjuntamente\n",
    "m2 = tf.keras.metrics.Accuracy()\n",
    "print(\"\\n #### Previsões ajustadas separadamente e depois conjuntamente:\")\n",
    "m2.update_state(previsoes_ajustadas_separadas, true_values)\n",
    "print(\"- ##### Número de acertos de próximo sensor externo:\", len(true_values[(true_values[:,0] == previsoes_ajustadas_separadas[:,0]) & \n",
    "                                                                  (true_values[:,1] == previsoes_ajustadas_separadas[:,1])]))\n",
    "print(\"- ##### Acurácia:\", m2.result().numpy())\n",
    "\n",
    "# Previsões ajustadas somente conjuntamente\n",
    "m3 = tf.keras.metrics.Accuracy()\n",
    "print(\"\\n #### Previsões ajustadas somente conjuntamente:\")\n",
    "m3.update_state(previsoes_ajustadas_juntas, true_values)\n",
    "print(\"- ##### Número de acertos de próximo sensor externo:\", len(true_values[(true_values[:,0] == previsoes_ajustadas_juntas[:,0]) & \n",
    "                                                                  (true_values[:,1] == previsoes_ajustadas_juntas[:,1])]))\n",
    "print(\"- ##### Acurácia:\", m3.result().numpy())\n",
    "\n",
    "\n",
    "print(\"\\n- ##### Número de acertos ARREDONDADOS de próximo sensor externo:\", len(true_values[(np.round(true_values[:,0],2) == np.round(previsoes_ajustadas_juntas[:,0],2)) & \n",
    "                                                                  (np.round(true_values[:,1],2) == np.round(previsoes_ajustadas_juntas[:,1],2))]))\n",
    "#np.round(previsoes, num_decimals)\n",
    "\n",
    "print(\"---------------------\")\n",
    "\n",
    "#print(previsoes.shape, true_values.shape)\n",
    "#print(previsoes[:,1])"
   ]
  },
  {
   "cell_type": "code",
   "execution_count": null,
   "id": "e229edf7-3010-4846-a5ed-113dbd0da594",
   "metadata": {
    "scrolled": true
   },
   "outputs": [],
   "source": [
    "previsoes_ajustadas_separadas"
   ]
  },
  {
   "cell_type": "code",
   "execution_count": null,
   "id": "4c400ffb-c628-4807-8112-39bb245a955c",
   "metadata": {
    "scrolled": true
   },
   "outputs": [],
   "source": [
    "#true_values['PAS_lat'] = previsoes_ajustadas_separadas['LocLat']\n",
    "#true_values['PAS_long'] = previsoes_ajustadas_separadas['LocLong']\n",
    "true_values"
   ]
  },
  {
   "cell_type": "raw",
   "id": "da85cb0a-be95-4888-aeeb-85fddbd29674",
   "metadata": {},
   "source": [
    "DF:\n",
    "array([[-15.794, -47.96 ],\n",
    "       [-15.868, -47.946],\n",
    "       [-15.876, -47.994],\n",
    "       [-15.844, -47.943],\n",
    "       [-15.839, -47.827],\n",
    "       [-15.885, -47.96 ],\n",
    "       [-15.792, -47.998],\n",
    "       [-15.885, -47.96 ],\n",
    "       [-15.867, -47.967],\n",
    "       [-15.794, -47.96 ],\n",
    "       [-15.793, -47.956],\n",
    "       [-15.865, -48.034],\n",
    "       [-15.88 , -48.053],\n",
    "       [-15.792, -48.156],\n",
    "       [-15.885, -47.96 ],\n",
    "       [-15.806, -47.889],\n",
    "       [-15.851, -47.876],\n",
    "       [-15.875, -47.823],\n",
    "       [-15.808, -47.96 ],\n",
    "       [-15.831, -47.869],\n",
    "       [-15.825, -48.009],\n",
    "       [-15.877, -48.019],\n",
    "       [-15.82 , -48.057],\n",
    "       [-15.791, -48.105],\n",
    "       [-15.811, -47.996],\n",
    "       [-15.822, -48.022],\n",
    "       [-15.844, -47.954],\n",
    "       [-15.815, -47.899],\n",
    "       [-15.794, -47.96 ],\n",
    "       [-15.839, -47.827],\n",
    "       [-15.813, -47.984],\n",
    "       [-15.941, -47.988],\n",
    "       [-15.753, -47.887],\n",
    "       [-15.859, -47.871],\n",
    "       [-15.825, -48.009],\n",
    "       [-15.877, -48.019],\n",
    "       [-15.815, -47.898],\n",
    "       [-15.847, -47.955],\n",
    "       [-15.815, -47.899],\n",
    "       [-15.811, -47.943],\n",
    "       [-15.722, -47.884],\n",
    "       [-15.846, -47.923],\n",
    "       [-15.797, -48.174],\n",
    "       [-15.815, -47.899],\n",
    "       [-15.786, -48.001],\n",
    "       [-15.912, -47.968],\n",
    "       [-16.006, -48.047],\n",
    "       [-15.917, -48.049],\n",
    "       [-15.859, -47.871],\n",
    "       [-15.789, -48.221],\n",
    "       [-15.877, -48.02 ],\n",
    "       [-15.985, -48.041],\n",
    "       [-15.799, -47.914],\n",
    "       [-15.874, -48.045],\n",
    "       [-15.874, -48.045],\n",
    "       [-15.792, -47.998],\n",
    "       [-15.727, -47.884],\n",
    "       [-15.786, -48.001],\n",
    "       [-15.844, -47.943],\n",
    "       [-15.875, -47.984],\n",
    "       [-15.846, -48.101],\n",
    "       [-15.822, -48.022],\n",
    "       [-15.88 , -48.053],\n",
    "       [-15.877, -48.02 ],\n",
    "       [-15.811, -47.996],\n",
    "       [-15.786, -48.001],\n",
    "       [-15.87 , -47.973],\n",
    "       [-15.722, -47.884],\n",
    "       [-15.946, -47.996],\n",
    "       [-15.815, -48.007],\n",
    "       [-15.917, -48.049],\n",
    "       [-15.823, -48.01 ],\n",
    "       [-15.862, -47.936],\n",
    "       [-15.941, -47.988],\n",
    "       [-15.806, -47.889],\n",
    "       [-15.876, -47.986],\n",
    "       [-15.793, -47.956],\n",
    "       [-15.857, -47.818],\n",
    "       [-15.976, -48.01 ],\n",
    "       [-15.868, -47.958],\n",
    "       [-15.796, -48.17 ],\n",
    "       [-15.806, -47.889],\n",
    "       [-15.73 , -47.91 ],\n",
    "       [-15.866, -47.965],\n",
    "       [-15.877, -48.004],\n",
    "       [-15.941, -47.988],\n",
    "       [-15.844, -47.943],\n",
    "       [-15.753, -47.887],\n",
    "       [-15.794, -47.96 ],\n",
    "       [-15.792, -48.156],\n",
    "       [-15.941, -47.988],\n",
    "       [-15.825, -48.026],\n",
    "       [-15.846, -47.923],\n",
    "       [-15.818, -47.806],\n",
    "       [-15.825, -48.009],\n",
    "       [-15.847, -47.954],\n",
    "       [-15.815, -48.007],\n",
    "       [-15.813, -47.984],\n",
    "       [-15.789, -48.221],\n",
    "       [-15.806, -47.889],\n",
    "       [-15.941, -47.988],\n",
    "       [-15.878, -48.006],\n",
    "       [-15.864, -47.962],\n",
    "       [-15.912, -47.968],\n",
    "       [-15.868, -47.946],\n",
    "       [-16.048, -48.038],\n",
    "       [-15.815, -47.899],\n",
    "       [-15.912, -47.968],\n",
    "       [-15.733, -47.865],\n",
    "       [-15.807, -47.965],\n",
    "       [-15.941, -47.988],\n",
    "       [-15.815, -47.98 ],\n",
    "       [-15.815, -47.899],\n",
    "       [-15.877, -48.02 ],\n",
    "       [-15.792, -47.998],\n",
    "       [-15.847, -47.954],\n",
    "       [-15.801, -48.077],\n",
    "       [-15.865, -48.034],\n",
    "       [-15.867, -47.967],\n",
    "       [-15.797, -48.174],\n",
    "       [-15.797, -48.174],\n",
    "       [-15.912, -47.968],\n",
    "       [-15.786, -48.001],\n",
    "       [-15.825, -48.009],\n",
    "       [-15.875, -47.984],\n",
    "       [-15.807, -47.965],\n",
    "       [-15.941, -47.988],\n",
    "       [-15.811, -47.943],\n",
    "       [-15.723, -47.891],\n",
    "       [-15.859, -47.871],\n",
    "       [-15.815, -48.007],\n",
    "       [-15.847, -48.   ],\n",
    "       [-15.834, -47.895],\n",
    "       [-15.87 , -47.973],\n",
    "       [-15.869, -47.947],\n",
    "       [-15.678, -47.846],\n",
    "       [-15.753, -47.887],\n",
    "       [-15.867, -47.944],\n",
    "       [-15.847, -47.955],\n",
    "       [-15.789, -47.984],\n",
    "       [-15.846, -48.101],\n",
    "       [-15.809, -47.974],\n",
    "       [-15.781, -47.88 ],\n",
    "       [-15.802, -47.92 ],\n",
    "       [-15.875, -47.98 ],\n",
    "       [-15.941, -47.988],\n",
    "       [-15.917, -48.049],\n",
    "       [-15.727, -47.896],\n",
    "       [-15.821, -48.057],\n",
    "       [-15.701, -47.884],\n",
    "       [-15.846, -48.101],\n",
    "       [-15.815, -47.899],\n",
    "       [-15.794, -47.96 ],\n",
    "       [-15.941, -47.988],\n",
    "       [-15.841, -47.886],\n",
    "       [-15.83 , -48.051],\n",
    "       [-15.868, -47.946],\n",
    "       [-15.985, -48.041],\n",
    "       [-15.811, -47.99 ],\n",
    "       [-15.862, -47.936],\n",
    "       [-15.807, -47.965],\n",
    "       [-15.815, -47.899],\n",
    "       [-15.853, -48.04 ],\n",
    "       [-15.843, -47.917],\n",
    "       [-15.807, -47.965],\n",
    "       [-15.815, -48.007],\n",
    "       [-15.796, -48.17 ],\n",
    "       [-15.83 , -48.051],\n",
    "       [-15.822, -48.022],\n",
    "       [-15.806, -47.889],\n",
    "       [-15.813, -47.984],\n",
    "       [-15.985, -48.041],\n",
    "       [-15.821, -48.057],\n",
    "       [-16.012, -48.027],\n",
    "       [-15.941, -47.988],\n",
    "       [-15.745, -47.85 ],\n",
    "       [-15.984, -48.041],\n",
    "       [-15.745, -47.85 ],\n",
    "       [-15.809, -47.974],\n",
    "       [-15.903, -47.963],\n",
    "       [-15.876, -47.994],\n",
    "       [-15.87 , -47.958],\n",
    "       [-15.859, -47.871],\n",
    "       [-15.815, -48.007],\n",
    "       [-15.917, -48.049],\n",
    "       [-16.006, -48.047],\n",
    "       [-15.941, -47.988],\n",
    "       [-15.83 , -48.051],\n",
    "       [-15.834, -47.895],\n",
    "       [-15.825, -48.009],\n",
    "       [-15.796, -48.17 ],\n",
    "       [-15.832, -47.869],\n",
    "       [-15.806, -47.889],\n",
    "       [-15.912, -47.968],\n",
    "       [-15.874, -48.045],\n",
    "       [-15.677, -47.846],\n",
    "       [-15.875, -47.984],\n",
    "       [-15.662, -47.844],\n",
    "       [-15.813, -47.984],\n",
    "       [-15.783, -47.88 ],\n",
    "       [-15.815, -47.899],\n",
    "       [-15.781, -47.88 ],\n",
    "       [-15.834, -47.895],\n",
    "       [-15.876, -47.994],\n",
    "       [-15.893, -47.962],\n",
    "       [-15.546, -47.641],\n",
    "       [-15.822, -48.022],\n",
    "       [-15.9  , -47.78 ],\n",
    "       [-15.941, -47.988],\n",
    "       [-15.791, -47.882],\n",
    "       [-15.877, -48.004],\n",
    "       [-15.815, -47.806],\n",
    "       [-15.825, -48.009],\n",
    "       [-15.797, -48.174],\n",
    "       [-15.786, -48.001],\n",
    "       [-15.877, -48.019],\n",
    "       [-15.85 , -47.997],\n",
    "       [-15.838, -47.961],\n",
    "       [-15.808, -47.96 ],\n",
    "       [-15.806, -47.889],\n",
    "       [-15.767, -47.914],\n",
    "       [-15.845, -47.939],\n",
    "       [-15.783, -47.88 ],\n",
    "       [-15.802, -47.92 ],\n",
    "       [-15.811, -47.996],\n",
    "       [-15.859, -47.871],\n",
    "       [-15.786, -48.001],\n",
    "       [-15.841, -47.826],\n",
    "       [-15.815, -47.899],\n",
    "       [-15.823, -48.01 ],\n",
    "       [-15.869, -47.947],\n",
    "       [-15.847, -47.954],\n",
    "       [-15.822, -48.022],\n",
    "       [-15.941, -47.988],\n",
    "       [-15.941, -47.988],\n",
    "       [-16.006, -48.047],\n",
    "       [-15.847, -47.954],\n",
    "       [-15.701, -47.884],\n",
    "       [-15.821, -48.057],\n",
    "       [-15.798, -47.914],\n",
    "       [-15.872, -47.958],\n",
    "       [-15.841, -47.886],\n",
    "       [-15.941, -47.988],\n",
    "       [-15.72 , -47.857],\n",
    "       [-15.877, -48.004],\n",
    "       [-15.806, -47.889],\n",
    "       [-15.685, -47.863],\n",
    "       [-15.912, -47.968],\n",
    "       [-15.816, -48.01 ],\n",
    "       [-15.816, -48.01 ],\n",
    "       [-15.794, -47.96 ],\n",
    "       [-15.83 , -47.877],\n",
    "       [-15.793, -47.956],\n",
    "       [-15.941, -47.988],\n",
    "       [-15.811, -47.94 ],\n",
    "       [-15.815, -47.898],\n",
    "       [-15.843, -47.916],\n",
    "       [-15.809, -47.974],\n",
    "       [-15.844, -47.943],\n",
    "       [-15.701, -47.884],\n",
    "       [-15.87 , -47.973],\n",
    "       [-15.701, -47.884],\n",
    "       [-15.809, -47.974],\n",
    "       [-15.853, -48.04 ],\n",
    "       [-15.811, -47.99 ],\n",
    "       [-15.914, -47.947],\n",
    "       [-15.85 , -47.997],\n",
    "       [-15.781, -47.881],\n",
    "       [-15.877, -48.019],\n",
    "       [-15.825, -48.009],\n",
    "       [-15.822, -48.022],\n",
    "       [-15.807, -47.965],\n",
    "       [-15.985, -48.041],\n",
    "       [-15.816, -48.01 ],\n",
    "       [-15.797, -48.092],\n",
    "       [-15.815, -47.898],\n",
    "       [-15.813, -47.984],\n",
    "       [-15.857, -47.818],\n",
    "       [-15.809, -47.974],\n",
    "       [-15.791, -47.882],\n",
    "       [-15.753, -47.887],\n",
    "       [-15.753, -47.887],\n",
    "       [-15.847, -47.954],\n",
    "       [-15.806, -47.889],\n",
    "       [-15.912, -47.968],\n",
    "       [-15.807, -47.965],\n",
    "       [-15.877, -48.019],\n",
    "       [-15.838, -47.961],\n",
    "       [-15.824, -48.026],\n",
    "       [-15.918, -48.049],\n",
    "       [-15.878, -48.006],\n",
    "       [-15.723, -47.891],\n",
    "       [-15.912, -47.968],\n",
    "       [-15.811, -47.996],\n",
    "       [-15.792, -48.156],\n",
    "       [-15.984, -48.041],\n",
    "       [-15.793, -48.102],\n",
    "       [-15.877, -48.004],\n",
    "       [-15.912, -47.968],\n",
    "       [-15.961, -48.015],\n",
    "       [-15.876, -47.989],\n",
    "       [-15.838, -47.961],\n",
    "       [-15.815, -48.007],\n",
    "       [-15.727, -47.884],\n",
    "       [-15.989, -47.815],\n",
    "       [-15.815, -47.898],\n",
    "       [-15.877, -48.019],\n",
    "       [-15.815, -48.007],\n",
    "       [-15.815, -48.007],\n",
    "       [-15.813, -47.984],\n",
    "       [-15.813, -47.984],\n",
    "       [-15.722, -47.906],\n",
    "       [-15.796, -48.17 ],\n",
    "       [-15.815, -47.899],\n",
    "       [-15.868, -47.958],\n",
    "       [-15.743, -47.919],\n",
    "       [-15.85 , -47.997],\n",
    "       [-15.821, -48.057],\n",
    "       [-15.87 , -47.973],\n",
    "       [-15.874, -48.045],\n",
    "       [-16.048, -48.039],\n",
    "       [-15.885, -47.96 ],\n",
    "       [-15.885, -47.96 ],\n",
    "       [-15.859, -47.936],\n",
    "       [-15.868, -47.958],\n",
    "       [-15.912, -47.968],\n",
    "       [-15.807, -47.965],\n",
    "       [-15.868, -47.946],\n",
    "       [-15.87 , -47.973],\n",
    "       [-15.877, -48.019],\n",
    "       [-15.815, -48.007],\n",
    "       [-15.723, -47.891],\n",
    "       [-15.893, -47.962],\n",
    "       [-15.753, -47.887],\n",
    "       [-16.011, -48.03 ],\n",
    "       [-15.859, -47.936],\n",
    "       [-15.808, -47.96 ],\n",
    "       [-15.797, -48.174],\n",
    "       [-15.845, -47.939],\n",
    "       [-15.806, -47.889],\n",
    "       [-15.844, -47.943],\n",
    "       [-15.814, -47.806],\n",
    "       [-15.912, -47.968],\n",
    "       [-15.815, -47.899],\n",
    "       [-15.822, -48.022],\n",
    "       [-15.859, -47.871],\n",
    "       [-15.787, -48.006],\n",
    "       [-15.859, -47.87 ],\n",
    "       [-15.851, -47.876],\n",
    "       [-15.984, -48.041],\n",
    "       [-15.807, -47.965],\n",
    "       [-15.83 , -48.051],\n",
    "       [-15.845, -47.939],\n",
    "       [-15.73 , -47.91 ],\n",
    "       [-15.807, -47.965],\n",
    "       [-15.753, -47.887],\n",
    "       [-15.976, -48.01 ],\n",
    "       [-15.941, -47.988],\n",
    "       [-15.912, -47.968],\n",
    "       [-15.864, -47.961],\n",
    "       [-15.815, -48.007],\n",
    "       [-15.914, -47.969],\n",
    "       [-15.808, -47.96 ],\n",
    "       [-15.831, -47.878],\n",
    "       [-15.863, -48.035],\n",
    "       [-15.704, -47.887],\n",
    "       [-15.845, -47.939],\n",
    "       [-15.833, -47.895],\n",
    "       [-15.87 , -47.973],\n",
    "       [-15.831, -47.878],\n",
    "       [-15.722, -47.884],\n",
    "       [-15.876, -47.986],\n",
    "       [-15.864, -47.961],\n",
    "       [-15.912, -47.968],\n",
    "       [-15.876, -47.986],\n",
    "       [-15.818, -48.058],\n",
    "       [-15.798, -47.914],\n",
    "       [-15.85 , -47.997],\n",
    "       [-15.941, -47.988],\n",
    "       [-15.723, -47.891],\n",
    "       [-15.803, -48.001],\n",
    "       [-15.838, -47.961],\n",
    "       [-15.767, -47.914],\n",
    "       [-15.727, -47.896],\n",
    "       [-15.733, -47.865],\n",
    "       [-15.818, -48.058],\n",
    "       [-15.743, -47.919],\n",
    "       [-15.831, -47.878],\n",
    "       [-15.844, -47.954],\n",
    "       [-15.761, -47.794],\n",
    "       [-15.912, -47.968],\n",
    "       [-15.876, -47.994],\n",
    "       [-15.87 , -47.973],\n",
    "       [-15.83 , -48.051]])"
   ]
  },
  {
   "cell_type": "raw",
   "id": "f40e9467-1b2d-40d7-8946-3e7883b521f7",
   "metadata": {},
   "source": [
    "GO:\n",
    "array([[-16.328, -48.946],\n",
    "       [-16.327, -48.951],\n",
    "       [-16.325, -48.932],\n",
    "       ...,\n",
    "       [-16.33 , -48.951],\n",
    "       [-16.316, -48.944],\n",
    "       [-16.326, -48.936]])"
   ]
  },
  {
   "cell_type": "code",
   "execution_count": null,
   "id": "d52e05e7-f523-485b-8a2b-ecff11991c16",
   "metadata": {},
   "outputs": [],
   "source": [
    "from sklearn.metrics import mean_absolute_error as mae_2\n",
    "\n",
    "# Calcule o MAE global usando scikit-learn\n",
    "mae_global = mae_2(true_values, adjusted_predictions)\n",
    "\n",
    "print(\"Mean Absolute Error (MAE) Global: \", mae_global)"
   ]
  },
  {
   "cell_type": "code",
   "execution_count": null,
   "id": "30ca0993-e79d-40c3-a71e-90b334d9e0a0",
   "metadata": {},
   "outputs": [],
   "source": [
    "m = tf.keras.metrics.Accuracy()\n",
    "m.update_state([[1,1], [2,2], [3,1], [4,1]], [[0,1], [2,1], [3,1], [4,1]])\n",
    "m.result().numpy()"
   ]
  },
  {
   "cell_type": "raw",
   "id": "41f8dabb-73c2-4f73-aba1-d56c0a5749b4",
   "metadata": {},
   "source": [
    "Quantidade de sequências (n_seq) conforme requisito mínimo de valores preditores:\n",
    "01 = 4410\n",
    "05 = 2155\n",
    "08 = 1574\n",
    "09 = 1445\n",
    "10 = 1335\n",
    "20 = 730\n",
    "30 = 452\n",
    "40 = 310"
   ]
  },
  {
   "cell_type": "markdown",
   "id": "943029da-28d2-470e-9670-fbd827103cc0",
   "metadata": {},
   "source": [
    "## 11. Registro de resultados"
   ]
  },
  {
   "cell_type": "markdown",
   "id": "c2f16cc2-5f6e-428e-8585-5b0acecc2203",
   "metadata": {},
   "source": [
    "---------------------\n",
    "- #### Número de previsores (n_seq) = 8\n",
    "- #### Número de previsões (Lat e Long) = 1574\n",
    "\n",
    " #### Previsões originais:\n",
    "- ##### Número de acertos de próximo sensor externo: 0\n",
    "- ##### Acurácia: 0.0\n",
    "\n",
    " #### Previsões ajustadas separadamente e depois conjuntamente:\n",
    "- ##### Número de acertos de próximo sensor externo: 46\n",
    "- ##### Acurácia: 0.029542567\n",
    "\n",
    " #### Previsões ajustadas somente conjuntamente:\n",
    "- ##### Número de acertos de próximo sensor externo: 39\n",
    "- ##### Acurácia: 0.025095299\n",
    "---------------------"
   ]
  },
  {
   "cell_type": "markdown",
   "id": "9b68cf2b-24be-4664-8ad8-dea5e8187281",
   "metadata": {},
   "source": [
    "---------------------\n",
    "- #### Número de previsores (n_seq) = 9\n",
    "- #### Número de previsões (Lat e Long) = 1445\n",
    "\n",
    " #### Previsões originais:\n",
    "- ##### Número de acertos de próximo sensor externo: 0\n",
    "- ##### Acurácia: 0.0\n",
    "\n",
    " #### Previsões ajustadas separadamente e depois conjuntamente:\n",
    "- ##### Número de acertos de próximo sensor externo: 45\n",
    "- ##### Acurácia: 0.03217993\n",
    "\n",
    " #### Previsões ajustadas somente conjuntamente:\n",
    "- ##### Número de acertos de próximo sensor externo: 43\n",
    "- ##### Acurácia: 0.030795848\n",
    "---------------------"
   ]
  },
  {
   "cell_type": "markdown",
   "id": "9ffb7cf9-6376-4020-bfca-0497f43a2496",
   "metadata": {},
   "source": [
    "---------------------\n",
    "- #### Número de previsores (n_seq) = 10\n",
    "- #### Número de previsões (Lat e Long) = 1335\n",
    "\n",
    " #### Previsões originais:\n",
    "- ##### Número de acertos de próximo sensor externo: 0\n",
    "- ##### Acurácia: 0.0\n",
    "\n",
    " #### Previsões ajustadas separadamente e depois conjuntamente:\n",
    "- ##### Número de acertos de próximo sensor externo: 33\n",
    "- ##### Acurácia: 0.025468165\n",
    "\n",
    " #### Previsões ajustadas somente conjuntamente:\n",
    "- ##### Número de acertos de próximo sensor externo: 31\n",
    "- ##### Acurácia: 0.023970038\n",
    "---------------------"
   ]
  },
  {
   "cell_type": "raw",
   "id": "b587fb4c-13ac-4bb6-920c-ebcb6f181700",
   "metadata": {},
   "source": [
    "AdamW"
   ]
  },
  {
   "cell_type": "markdown",
   "id": "1f29fdf6-d1f5-41b7-9098-cccaf82cca35",
   "metadata": {},
   "source": [
    "---------------------\n",
    "- #### Número de previsores (n_seq) = 9\n",
    "- #### Número de previsões (Lat e Long) = 1445\n",
    "\n",
    " #### Previsões originais:\n",
    "- ##### Número de acertos de próximo sensor externo: 0\n",
    "- ##### Acurácia: 0.0\n",
    "\n",
    " #### Previsões ajustadas separadamente e depois conjuntamente:\n",
    "- ##### Número de acertos de próximo sensor externo: 40\n",
    "- ##### Acurácia: 0.028027682\n",
    "\n",
    " #### Previsões ajustadas somente conjuntamente:\n",
    "- ##### Número de acertos de próximo sensor externo: 46\n",
    "- ##### Acurácia: 0.03217993\n",
    "---------------------"
   ]
  },
  {
   "cell_type": "markdown",
   "id": "fdd5c808-ab60-4774-9672-8b32756febed",
   "metadata": {},
   "source": [
    "---------------------\n",
    "- #### Número de previsores (n_seq) = 9\n",
    "- #### Número de previsões (Lat e Long) = 1445\n",
    "\n",
    " #### Previsões originais:\n",
    "- ##### Número de acertos de próximo sensor externo: 0\n",
    "- ##### Acurácia: 0.00034602077\n",
    "\n",
    " #### Previsões ajustadas separadamente e depois conjuntamente:\n",
    "- ##### Número de acertos de próximo sensor externo: 45\n",
    "- ##### Acurácia: 0.031141868\n",
    "\n",
    " #### Previsões ajustadas somente conjuntamente:\n",
    "- ##### Número de acertos de próximo sensor externo: 45\n",
    "- ##### Acurácia: 0.03183391\n",
    "---------------------"
   ]
  },
  {
   "cell_type": "raw",
   "id": "e6d98bb7-603a-4a93-8483-3bdaf39064d5",
   "metadata": {},
   "source": [
    "kernel_initializer=glorot_uniform()"
   ]
  },
  {
   "cell_type": "markdown",
   "id": "a5e9e338-bf4e-4782-9048-15147ed5e8fd",
   "metadata": {},
   "source": [
    "---------------------\n",
    "- #### Número de previsores (n_seq) = 9\n",
    "- #### Número de previsões (Lat e Long) = 1445\n",
    "\n",
    " #### Previsões originais:\n",
    "- ##### Número de acertos de próximo sensor externo: 0\n",
    "- ##### Acurácia: 0.0\n",
    "\n",
    " #### Previsões ajustadas separadamente e depois conjuntamente:\n",
    "- ##### Número de acertos de próximo sensor externo: 55\n",
    "- ##### Acurácia: 0.038062282\n",
    "\n",
    " #### Previsões ajustadas somente conjuntamente:\n",
    "- ##### Número de acertos de próximo sensor externo: 51\n",
    "- ##### Acurácia: 0.03529412\n",
    "---------------------"
   ]
  },
  {
   "cell_type": "markdown",
   "id": "c936d3fa-fa28-439d-b618-e21d77d71a45",
   "metadata": {},
   "source": [
    "---------------------\n",
    "- #### Número de previsores (n_seq) = 9\n",
    "- #### Número de previsões (Lat e Long) = 1445\n",
    "\n",
    " #### Previsões originais:\n",
    "- ##### Número de acertos de próximo sensor externo: 0\n",
    "- ##### Acurácia: 0.0\n",
    "\n",
    " #### Previsões ajustadas separadamente e depois conjuntamente:\n",
    "- ##### Número de acertos de próximo sensor externo: 43\n",
    "- ##### Acurácia: 0.030795848\n",
    "\n",
    " #### Previsões ajustadas somente conjuntamente:\n",
    "- ##### Número de acertos de próximo sensor externo: 39\n",
    "- ##### Acurácia: 0.028027682\n",
    "---------------------"
   ]
  },
  {
   "cell_type": "raw",
   "id": "f23fd369-50b0-4830-8b32-33d7ee4c345f",
   "metadata": {},
   "source": [
    "clipnorm=6.0"
   ]
  },
  {
   "cell_type": "markdown",
   "id": "35db3840-3e0c-440f-9190-2b0b942091d3",
   "metadata": {},
   "source": [
    "---------------------\n",
    "- #### Número de previsores (n_seq) = 9\n",
    "- #### Número de previsões (Lat e Long) = 1445\n",
    "\n",
    " #### Previsões originais:\n",
    "- ##### Número de acertos de próximo sensor externo: 0\n",
    "- ##### Acurácia: 0.0\n",
    "\n",
    " #### Previsões ajustadas separadamente e depois conjuntamente:\n",
    "- ##### Número de acertos de próximo sensor externo: 38\n",
    "- ##### Acurácia: 0.027681662\n",
    "\n",
    " #### Previsões ajustadas somente conjuntamente:\n",
    "- ##### Número de acertos de próximo sensor externo: 40\n",
    "- ##### Acurácia: 0.029411765\n",
    "---------------------"
   ]
  },
  {
   "cell_type": "markdown",
   "id": "6d20d55d-21f0-44d9-8cc8-14025499401c",
   "metadata": {},
   "source": [
    "---------------------\n",
    "- #### Número de previsores (n_seq) = 9\n",
    "- #### Número de previsões (Lat e Long) = 1445\n",
    "\n",
    " #### Previsões originais:\n",
    "- ##### Número de acertos de próximo sensor externo: 0\n",
    "- ##### Acurácia: 0.0\n",
    "\n",
    " #### Previsões ajustadas separadamente e depois conjuntamente:\n",
    "- ##### Número de acertos de próximo sensor externo: 39\n",
    "- ##### Acurácia: 0.028027682\n",
    "\n",
    " #### Previsões ajustadas somente conjuntamente:\n",
    "- ##### Número de acertos de próximo sensor externo: 39\n",
    "- ##### Acurácia: 0.027681662\n",
    "---------------------"
   ]
  },
  {
   "cell_type": "raw",
   "id": "7f50f3d0-9866-4260-bb19-d5786b62b5b3",
   "metadata": {},
   "source": [
    "clipvalue=1.0"
   ]
  },
  {
   "cell_type": "markdown",
   "id": "35b25d77-e713-470a-9a01-b007b342d8d3",
   "metadata": {},
   "source": [
    "---------------------\n",
    "- #### Número de previsores (n_seq) = 9\n",
    "- #### Número de previsões (Lat e Long) = 1445\n",
    "\n",
    " #### Previsões originais:\n",
    "- ##### Número de acertos de próximo sensor externo: 0\n",
    "- ##### Acurácia: 0.0\n",
    "\n",
    " #### Previsões ajustadas separadamente e depois conjuntamente:\n",
    "- ##### Número de acertos de próximo sensor externo: 49\n",
    "- ##### Acurácia: 0.033910036\n",
    "\n",
    " #### Previsões ajustadas somente conjuntamente:\n",
    "- ##### Número de acertos de próximo sensor externo: 48\n",
    "- ##### Acurácia: 0.033217993\n",
    "---------------------"
   ]
  },
  {
   "cell_type": "raw",
   "id": "225665d6-4e04-4590-92f8-6b5c57d3d850",
   "metadata": {},
   "source": [
    "OPÇÃO 1 - LSTM comum"
   ]
  },
  {
   "cell_type": "markdown",
   "id": "c8c3578a-ab80-4b88-868a-a2f1eb130566",
   "metadata": {},
   "source": [
    "---------------------\n",
    "- #### Número de previsores (n_seq) = 9\n",
    "- #### Número de previsões (Lat e Long) = 1445\n",
    "\n",
    " #### Previsões originais:\n",
    "- ##### Número de acertos de próximo sensor externo: 0\n",
    "- ##### Acurácia: 0.0\n",
    "\n",
    " #### Previsões ajustadas separadamente e depois conjuntamente:\n",
    "- ##### Número de acertos de próximo sensor externo: 48\n",
    "- ##### Acurácia: 0.033217993\n",
    "\n",
    " #### Previsões ajustadas somente conjuntamente:\n",
    "- ##### Número de acertos de próximo sensor externo: 46\n",
    "- ##### Acurácia: 0.03183391\n",
    "---------------------"
   ]
  },
  {
   "cell_type": "markdown",
   "id": "8a593f51-cd83-41d5-ad17-48dad3beb87d",
   "metadata": {},
   "source": [
    "---------------------\n",
    "- #### Número de previsores (n_seq) = 40\n",
    "- #### Número de previsões (Lat e Long) = 310\n",
    "\n",
    " #### Previsões originais:\n",
    "- ##### Número de acertos de próximo sensor externo: 0\n",
    "- ##### Acurácia: 0.0\n",
    "\n",
    " #### Previsões ajustadas separadamente e depois conjuntamente:\n",
    "- ##### Número de acertos de próximo sensor externo: 10\n",
    "- ##### Acurácia: 0.032258064\n",
    "\n",
    " #### Previsões ajustadas somente conjuntamente:\n",
    "- ##### Número de acertos de próximo sensor externo: 9\n",
    "- ##### Acurácia: 0.029032258\n",
    "---------------------"
   ]
  },
  {
   "cell_type": "markdown",
   "id": "c86bca53-7499-4cc9-825a-754beb687b65",
   "metadata": {},
   "source": [
    "---------------------\n",
    "- #### Número de previsores (n_seq) = 40\n",
    "- #### Número de previsões (Lat e Long) = 310\n",
    "\n",
    " #### Previsões originais:\n",
    "- ##### Número de acertos de próximo sensor externo: 0\n",
    "- ##### Acurácia: 0.0\n",
    "\n",
    " #### Previsões ajustadas separadamente e depois conjuntamente:\n",
    "- ##### Número de acertos de próximo sensor externo: 9\n",
    "- ##### Acurácia: 0.029032258\n",
    "\n",
    " #### Previsões ajustadas somente conjuntamente:\n",
    "- ##### Número de acertos de próximo sensor externo: 9\n",
    "- ##### Acurácia: 0.029032258\n",
    "---------------------"
   ]
  },
  {
   "cell_type": "raw",
   "id": "8e3e0cc9-2ab3-4a56-ace9-99dc2a668d22",
   "metadata": {},
   "source": [
    "OPÇÃO 2 - LSTM artigo 4"
   ]
  },
  {
   "cell_type": "markdown",
   "id": "52e5d296-ee8e-4f27-b29d-2996bc31368c",
   "metadata": {},
   "source": [
    "---------------------\n",
    "- #### Número de previsores (n_seq) = 9\n",
    "- #### Número de previsões (Lat e Long) = 1445\n",
    "\n",
    " #### Previsões originais:\n",
    "- ##### Número de acertos de próximo sensor externo: 0\n",
    "- ##### Acurácia: 0.0\n",
    "\n",
    " #### Previsões ajustadas separadamente e depois conjuntamente:\n",
    "- ##### Número de acertos de próximo sensor externo: 47\n",
    "- ##### Acurácia: 0.032525953\n",
    "\n",
    " #### Previsões ajustadas somente conjuntamente:\n",
    "- ##### Número de acertos de próximo sensor externo: 45\n",
    "- ##### Acurácia: 0.031141868\n",
    "---------------------"
   ]
  },
  {
   "cell_type": "markdown",
   "id": "cb66d5b4-f3f2-49b6-9134-1f59e404affe",
   "metadata": {},
   "source": [
    "---------------------\n",
    "- #### Número de previsores (n_seq) = 40\n",
    "- #### Número de previsões (Lat e Long) = 310\n",
    "\n",
    " #### Previsões originais:\n",
    "- ##### Número de acertos de próximo sensor externo: 0\n",
    "- ##### Acurácia: 0.0\n",
    "\n",
    " #### Previsões ajustadas separadamente e depois conjuntamente:\n",
    "- ##### Número de acertos de próximo sensor externo: 27\n",
    "- ##### Acurácia: 0.08709677\n",
    "\n",
    " #### Previsões ajustadas somente conjuntamente:\n",
    "- ##### Número de acertos de próximo sensor externo: 25\n",
    "- ##### Acurácia: 0.08064516\n",
    "---------------------"
   ]
  },
  {
   "cell_type": "markdown",
   "id": "8e06cb89-98bc-49da-a423-4cfb10dbebaa",
   "metadata": {
    "editable": true,
    "slideshow": {
     "slide_type": ""
    },
    "tags": []
   },
   "source": [
    "# Fim."
   ]
  }
 ],
 "metadata": {
  "kernelspec": {
   "display_name": "Python 3 (ipykernel)",
   "language": "python",
   "name": "python3"
  },
  "language_info": {
   "codemirror_mode": {
    "name": "ipython",
    "version": 3
   },
   "file_extension": ".py",
   "mimetype": "text/x-python",
   "name": "python",
   "nbconvert_exporter": "python",
   "pygments_lexer": "ipython3",
   "version": "3.11.7"
  }
 },
 "nbformat": 4,
 "nbformat_minor": 5
}
